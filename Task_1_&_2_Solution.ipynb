{
  "nbformat": 4,
  "nbformat_minor": 0,
  "metadata": {
    "colab": {
      "provenance": [],
      "collapsed_sections": [
        "tqD0vbUNUG6x"
      ],
      "authorship_tag": "ABX9TyOfBzAxIYtd41PxcKDv7hPX",
      "include_colab_link": true
    },
    "kernelspec": {
      "name": "python3",
      "display_name": "Python 3"
    },
    "language_info": {
      "name": "python"
    }
  },
  "cells": [
    {
      "cell_type": "markdown",
      "metadata": {
        "id": "view-in-github",
        "colab_type": "text"
      },
      "source": [
        "<a href=\"https://colab.research.google.com/github/Nebil1/UNDP-FTL-AI/blob/main/Task_1_%26_2_Solution.ipynb\" target=\"_parent\"><img src=\"https://colab.research.google.com/assets/colab-badge.svg\" alt=\"Open In Colab\"/></a>"
      ]
    },
    {
      "cell_type": "markdown",
      "source": [
        "# **Task 1**\n",
        "\n",
        "- Supervised Learning\n",
        "\n",
        "- Please collapse task 1 to access task 2"
      ],
      "metadata": {
        "id": "tqD0vbUNUG6x"
      }
    },
    {
      "cell_type": "markdown",
      "source": [
        "##Import Libraries"
      ],
      "metadata": {
        "id": "Ug6Cpgt396nq"
      }
    },
    {
      "cell_type": "code",
      "execution_count": 60,
      "metadata": {
        "id": "uv2gtFBv3LJ2"
      },
      "outputs": [],
      "source": [
        "import pandas as pd\n",
        "import numpy as np\n",
        "import matplotlib.pyplot as plt\n",
        "import seaborn as sns\n",
        "\n",
        "from sklearn.model_selection import train_test_split\n",
        "from sklearn.preprocessing   import StandardScaler\n",
        "from sklearn.linear_model    import LogisticRegression\n",
        "from sklearn.metrics         import (\n",
        "    accuracy_score, precision_score,\n",
        "    recall_score, classification_report,\n",
        "    confusion_matrix, roc_curve, auc\n",
        ")\n",
        "from sklearn.ensemble import RandomForestClassifier"
      ]
    },
    {
      "cell_type": "markdown",
      "source": [
        " ## Load data"
      ],
      "metadata": {
        "id": "yL93tuzT-EP3"
      }
    },
    {
      "cell_type": "code",
      "source": [
        "url = \"https://drive.google.com/uc?id=1zIk9JOdJEu9YF7Xuv2C8f2Q8ySfG3nHd\"\n",
        "df = pd.read_csv(url)"
      ],
      "metadata": {
        "id": "z3svRD5o3M5I"
      },
      "execution_count": 61,
      "outputs": []
    },
    {
      "cell_type": "markdown",
      "source": [
        "Check data"
      ],
      "metadata": {
        "id": "qSyAYjYSHGdg"
      }
    },
    {
      "cell_type": "code",
      "source": [
        "df.head()"
      ],
      "metadata": {
        "colab": {
          "base_uri": "https://localhost:8080/",
          "height": 0
        },
        "id": "KdxS7lNhHIs4",
        "outputId": "8566e758-4950-44f2-e1ef-a5c995fd0751"
      },
      "execution_count": 62,
      "outputs": [
        {
          "output_type": "execute_result",
          "data": {
            "text/plain": [
              "  Country or Administrative area Area [km2] Coast length [km]  \\\n",
              "0                        Albania     28'486               362   \n",
              "1                        Algeria  2'316'559               998   \n",
              "2                         Angola  1'247'357             1'600   \n",
              "3            Antigua and Barbuda        443               153   \n",
              "4                      Argentina  2'779'705             4'989   \n",
              "\n",
              "  Rainfall [mm year -1]  Factor L/A [-]  Factor (L/A) *P [-] P[E] [%]  \\\n",
              "0                 1'117          0.0100                 14.0    1.56%   \n",
              "1                    80          0.0004                  0.0    0.09%   \n",
              "2                 1'025          0.0010                  1.0    0.09%   \n",
              "3                   996          0.3000                344.0    3.08%   \n",
              "4                   567          0.0020                  1.0    0.26%   \n",
              "\n",
              "  MPW (metric tons year -1) M[E] (metric tons year -1) Ratio Me/MPW  \\\n",
              "0                    69'833                      1'565        2.24%   \n",
              "1                   764'578                      5'774        0.76%   \n",
              "2                   236'946                        860        0.36%   \n",
              "3                       627                          2        0.29%   \n",
              "4                   465'808                      4'137        0.89%   \n",
              "\n",
              "   Unnamed: 10  Unnamed: 11  Unnamed: 12  Unnamed: 13  \n",
              "0          NaN          NaN          NaN          NaN  \n",
              "1          NaN          NaN          NaN          NaN  \n",
              "2          NaN          NaN          NaN          NaN  \n",
              "3          NaN          NaN          NaN          NaN  \n",
              "4          NaN          NaN          NaN          NaN  "
            ],
            "text/html": [
              "\n",
              "  <div id=\"df-ba0e2d3b-590f-4cf6-9543-75ca4738caef\" class=\"colab-df-container\">\n",
              "    <div>\n",
              "<style scoped>\n",
              "    .dataframe tbody tr th:only-of-type {\n",
              "        vertical-align: middle;\n",
              "    }\n",
              "\n",
              "    .dataframe tbody tr th {\n",
              "        vertical-align: top;\n",
              "    }\n",
              "\n",
              "    .dataframe thead th {\n",
              "        text-align: right;\n",
              "    }\n",
              "</style>\n",
              "<table border=\"1\" class=\"dataframe\">\n",
              "  <thead>\n",
              "    <tr style=\"text-align: right;\">\n",
              "      <th></th>\n",
              "      <th>Country or Administrative area</th>\n",
              "      <th>Area [km2]</th>\n",
              "      <th>Coast length [km]</th>\n",
              "      <th>Rainfall [mm year -1]</th>\n",
              "      <th>Factor L/A [-]</th>\n",
              "      <th>Factor (L/A) *P [-]</th>\n",
              "      <th>P[E] [%]</th>\n",
              "      <th>MPW (metric tons year -1)</th>\n",
              "      <th>M[E] (metric tons year -1)</th>\n",
              "      <th>Ratio Me/MPW</th>\n",
              "      <th>Unnamed: 10</th>\n",
              "      <th>Unnamed: 11</th>\n",
              "      <th>Unnamed: 12</th>\n",
              "      <th>Unnamed: 13</th>\n",
              "    </tr>\n",
              "  </thead>\n",
              "  <tbody>\n",
              "    <tr>\n",
              "      <th>0</th>\n",
              "      <td>Albania</td>\n",
              "      <td>28'486</td>\n",
              "      <td>362</td>\n",
              "      <td>1'117</td>\n",
              "      <td>0.0100</td>\n",
              "      <td>14.0</td>\n",
              "      <td>1.56%</td>\n",
              "      <td>69'833</td>\n",
              "      <td>1'565</td>\n",
              "      <td>2.24%</td>\n",
              "      <td>NaN</td>\n",
              "      <td>NaN</td>\n",
              "      <td>NaN</td>\n",
              "      <td>NaN</td>\n",
              "    </tr>\n",
              "    <tr>\n",
              "      <th>1</th>\n",
              "      <td>Algeria</td>\n",
              "      <td>2'316'559</td>\n",
              "      <td>998</td>\n",
              "      <td>80</td>\n",
              "      <td>0.0004</td>\n",
              "      <td>0.0</td>\n",
              "      <td>0.09%</td>\n",
              "      <td>764'578</td>\n",
              "      <td>5'774</td>\n",
              "      <td>0.76%</td>\n",
              "      <td>NaN</td>\n",
              "      <td>NaN</td>\n",
              "      <td>NaN</td>\n",
              "      <td>NaN</td>\n",
              "    </tr>\n",
              "    <tr>\n",
              "      <th>2</th>\n",
              "      <td>Angola</td>\n",
              "      <td>1'247'357</td>\n",
              "      <td>1'600</td>\n",
              "      <td>1'025</td>\n",
              "      <td>0.0010</td>\n",
              "      <td>1.0</td>\n",
              "      <td>0.09%</td>\n",
              "      <td>236'946</td>\n",
              "      <td>860</td>\n",
              "      <td>0.36%</td>\n",
              "      <td>NaN</td>\n",
              "      <td>NaN</td>\n",
              "      <td>NaN</td>\n",
              "      <td>NaN</td>\n",
              "    </tr>\n",
              "    <tr>\n",
              "      <th>3</th>\n",
              "      <td>Antigua and Barbuda</td>\n",
              "      <td>443</td>\n",
              "      <td>153</td>\n",
              "      <td>996</td>\n",
              "      <td>0.3000</td>\n",
              "      <td>344.0</td>\n",
              "      <td>3.08%</td>\n",
              "      <td>627</td>\n",
              "      <td>2</td>\n",
              "      <td>0.29%</td>\n",
              "      <td>NaN</td>\n",
              "      <td>NaN</td>\n",
              "      <td>NaN</td>\n",
              "      <td>NaN</td>\n",
              "    </tr>\n",
              "    <tr>\n",
              "      <th>4</th>\n",
              "      <td>Argentina</td>\n",
              "      <td>2'779'705</td>\n",
              "      <td>4'989</td>\n",
              "      <td>567</td>\n",
              "      <td>0.0020</td>\n",
              "      <td>1.0</td>\n",
              "      <td>0.26%</td>\n",
              "      <td>465'808</td>\n",
              "      <td>4'137</td>\n",
              "      <td>0.89%</td>\n",
              "      <td>NaN</td>\n",
              "      <td>NaN</td>\n",
              "      <td>NaN</td>\n",
              "      <td>NaN</td>\n",
              "    </tr>\n",
              "  </tbody>\n",
              "</table>\n",
              "</div>\n",
              "    <div class=\"colab-df-buttons\">\n",
              "\n",
              "  <div class=\"colab-df-container\">\n",
              "    <button class=\"colab-df-convert\" onclick=\"convertToInteractive('df-ba0e2d3b-590f-4cf6-9543-75ca4738caef')\"\n",
              "            title=\"Convert this dataframe to an interactive table.\"\n",
              "            style=\"display:none;\">\n",
              "\n",
              "  <svg xmlns=\"http://www.w3.org/2000/svg\" height=\"24px\" viewBox=\"0 -960 960 960\">\n",
              "    <path d=\"M120-120v-720h720v720H120Zm60-500h600v-160H180v160Zm220 220h160v-160H400v160Zm0 220h160v-160H400v160ZM180-400h160v-160H180v160Zm440 0h160v-160H620v160ZM180-180h160v-160H180v160Zm440 0h160v-160H620v160Z\"/>\n",
              "  </svg>\n",
              "    </button>\n",
              "\n",
              "  <style>\n",
              "    .colab-df-container {\n",
              "      display:flex;\n",
              "      gap: 12px;\n",
              "    }\n",
              "\n",
              "    .colab-df-convert {\n",
              "      background-color: #E8F0FE;\n",
              "      border: none;\n",
              "      border-radius: 50%;\n",
              "      cursor: pointer;\n",
              "      display: none;\n",
              "      fill: #1967D2;\n",
              "      height: 32px;\n",
              "      padding: 0 0 0 0;\n",
              "      width: 32px;\n",
              "    }\n",
              "\n",
              "    .colab-df-convert:hover {\n",
              "      background-color: #E2EBFA;\n",
              "      box-shadow: 0px 1px 2px rgba(60, 64, 67, 0.3), 0px 1px 3px 1px rgba(60, 64, 67, 0.15);\n",
              "      fill: #174EA6;\n",
              "    }\n",
              "\n",
              "    .colab-df-buttons div {\n",
              "      margin-bottom: 4px;\n",
              "    }\n",
              "\n",
              "    [theme=dark] .colab-df-convert {\n",
              "      background-color: #3B4455;\n",
              "      fill: #D2E3FC;\n",
              "    }\n",
              "\n",
              "    [theme=dark] .colab-df-convert:hover {\n",
              "      background-color: #434B5C;\n",
              "      box-shadow: 0px 1px 3px 1px rgba(0, 0, 0, 0.15);\n",
              "      filter: drop-shadow(0px 1px 2px rgba(0, 0, 0, 0.3));\n",
              "      fill: #FFFFFF;\n",
              "    }\n",
              "  </style>\n",
              "\n",
              "    <script>\n",
              "      const buttonEl =\n",
              "        document.querySelector('#df-ba0e2d3b-590f-4cf6-9543-75ca4738caef button.colab-df-convert');\n",
              "      buttonEl.style.display =\n",
              "        google.colab.kernel.accessAllowed ? 'block' : 'none';\n",
              "\n",
              "      async function convertToInteractive(key) {\n",
              "        const element = document.querySelector('#df-ba0e2d3b-590f-4cf6-9543-75ca4738caef');\n",
              "        const dataTable =\n",
              "          await google.colab.kernel.invokeFunction('convertToInteractive',\n",
              "                                                    [key], {});\n",
              "        if (!dataTable) return;\n",
              "\n",
              "        const docLinkHtml = 'Like what you see? Visit the ' +\n",
              "          '<a target=\"_blank\" href=https://colab.research.google.com/notebooks/data_table.ipynb>data table notebook</a>'\n",
              "          + ' to learn more about interactive tables.';\n",
              "        element.innerHTML = '';\n",
              "        dataTable['output_type'] = 'display_data';\n",
              "        await google.colab.output.renderOutput(dataTable, element);\n",
              "        const docLink = document.createElement('div');\n",
              "        docLink.innerHTML = docLinkHtml;\n",
              "        element.appendChild(docLink);\n",
              "      }\n",
              "    </script>\n",
              "  </div>\n",
              "\n",
              "\n",
              "    <div id=\"df-8921cb48-6ced-4216-9c90-8be570db6fa1\">\n",
              "      <button class=\"colab-df-quickchart\" onclick=\"quickchart('df-8921cb48-6ced-4216-9c90-8be570db6fa1')\"\n",
              "                title=\"Suggest charts\"\n",
              "                style=\"display:none;\">\n",
              "\n",
              "<svg xmlns=\"http://www.w3.org/2000/svg\" height=\"24px\"viewBox=\"0 0 24 24\"\n",
              "     width=\"24px\">\n",
              "    <g>\n",
              "        <path d=\"M19 3H5c-1.1 0-2 .9-2 2v14c0 1.1.9 2 2 2h14c1.1 0 2-.9 2-2V5c0-1.1-.9-2-2-2zM9 17H7v-7h2v7zm4 0h-2V7h2v10zm4 0h-2v-4h2v4z\"/>\n",
              "    </g>\n",
              "</svg>\n",
              "      </button>\n",
              "\n",
              "<style>\n",
              "  .colab-df-quickchart {\n",
              "      --bg-color: #E8F0FE;\n",
              "      --fill-color: #1967D2;\n",
              "      --hover-bg-color: #E2EBFA;\n",
              "      --hover-fill-color: #174EA6;\n",
              "      --disabled-fill-color: #AAA;\n",
              "      --disabled-bg-color: #DDD;\n",
              "  }\n",
              "\n",
              "  [theme=dark] .colab-df-quickchart {\n",
              "      --bg-color: #3B4455;\n",
              "      --fill-color: #D2E3FC;\n",
              "      --hover-bg-color: #434B5C;\n",
              "      --hover-fill-color: #FFFFFF;\n",
              "      --disabled-bg-color: #3B4455;\n",
              "      --disabled-fill-color: #666;\n",
              "  }\n",
              "\n",
              "  .colab-df-quickchart {\n",
              "    background-color: var(--bg-color);\n",
              "    border: none;\n",
              "    border-radius: 50%;\n",
              "    cursor: pointer;\n",
              "    display: none;\n",
              "    fill: var(--fill-color);\n",
              "    height: 32px;\n",
              "    padding: 0;\n",
              "    width: 32px;\n",
              "  }\n",
              "\n",
              "  .colab-df-quickchart:hover {\n",
              "    background-color: var(--hover-bg-color);\n",
              "    box-shadow: 0 1px 2px rgba(60, 64, 67, 0.3), 0 1px 3px 1px rgba(60, 64, 67, 0.15);\n",
              "    fill: var(--button-hover-fill-color);\n",
              "  }\n",
              "\n",
              "  .colab-df-quickchart-complete:disabled,\n",
              "  .colab-df-quickchart-complete:disabled:hover {\n",
              "    background-color: var(--disabled-bg-color);\n",
              "    fill: var(--disabled-fill-color);\n",
              "    box-shadow: none;\n",
              "  }\n",
              "\n",
              "  .colab-df-spinner {\n",
              "    border: 2px solid var(--fill-color);\n",
              "    border-color: transparent;\n",
              "    border-bottom-color: var(--fill-color);\n",
              "    animation:\n",
              "      spin 1s steps(1) infinite;\n",
              "  }\n",
              "\n",
              "  @keyframes spin {\n",
              "    0% {\n",
              "      border-color: transparent;\n",
              "      border-bottom-color: var(--fill-color);\n",
              "      border-left-color: var(--fill-color);\n",
              "    }\n",
              "    20% {\n",
              "      border-color: transparent;\n",
              "      border-left-color: var(--fill-color);\n",
              "      border-top-color: var(--fill-color);\n",
              "    }\n",
              "    30% {\n",
              "      border-color: transparent;\n",
              "      border-left-color: var(--fill-color);\n",
              "      border-top-color: var(--fill-color);\n",
              "      border-right-color: var(--fill-color);\n",
              "    }\n",
              "    40% {\n",
              "      border-color: transparent;\n",
              "      border-right-color: var(--fill-color);\n",
              "      border-top-color: var(--fill-color);\n",
              "    }\n",
              "    60% {\n",
              "      border-color: transparent;\n",
              "      border-right-color: var(--fill-color);\n",
              "    }\n",
              "    80% {\n",
              "      border-color: transparent;\n",
              "      border-right-color: var(--fill-color);\n",
              "      border-bottom-color: var(--fill-color);\n",
              "    }\n",
              "    90% {\n",
              "      border-color: transparent;\n",
              "      border-bottom-color: var(--fill-color);\n",
              "    }\n",
              "  }\n",
              "</style>\n",
              "\n",
              "      <script>\n",
              "        async function quickchart(key) {\n",
              "          const quickchartButtonEl =\n",
              "            document.querySelector('#' + key + ' button');\n",
              "          quickchartButtonEl.disabled = true;  // To prevent multiple clicks.\n",
              "          quickchartButtonEl.classList.add('colab-df-spinner');\n",
              "          try {\n",
              "            const charts = await google.colab.kernel.invokeFunction(\n",
              "                'suggestCharts', [key], {});\n",
              "          } catch (error) {\n",
              "            console.error('Error during call to suggestCharts:', error);\n",
              "          }\n",
              "          quickchartButtonEl.classList.remove('colab-df-spinner');\n",
              "          quickchartButtonEl.classList.add('colab-df-quickchart-complete');\n",
              "        }\n",
              "        (() => {\n",
              "          let quickchartButtonEl =\n",
              "            document.querySelector('#df-8921cb48-6ced-4216-9c90-8be570db6fa1 button');\n",
              "          quickchartButtonEl.style.display =\n",
              "            google.colab.kernel.accessAllowed ? 'block' : 'none';\n",
              "        })();\n",
              "      </script>\n",
              "    </div>\n",
              "\n",
              "    </div>\n",
              "  </div>\n"
            ],
            "application/vnd.google.colaboratory.intrinsic+json": {
              "type": "dataframe",
              "variable_name": "df",
              "summary": "{\n  \"name\": \"df\",\n  \"rows\": 165,\n  \"fields\": [\n    {\n      \"column\": \"Country or Administrative area\",\n      \"properties\": {\n        \"dtype\": \"string\",\n        \"num_unique_values\": 163,\n        \"samples\": [\n          \"Somalia \",\n          \"Puerto Rico \",\n          \"Sint Maarten \"\n        ],\n        \"semantic_type\": \"\",\n        \"description\": \"\"\n      }\n    },\n    {\n      \"column\": \"Area [km2]\",\n      \"properties\": {\n        \"dtype\": \"string\",\n        \"num_unique_values\": 163,\n        \"samples\": [\n          \"633'217\",\n          \"9'018\",\n          \"41\"\n        ],\n        \"semantic_type\": \"\",\n        \"description\": \"\"\n      }\n    },\n    {\n      \"column\": \"Coast length [km]\",\n      \"properties\": {\n        \"dtype\": \"string\",\n        \"num_unique_values\": 145,\n        \"samples\": [\n          \"26\",\n          \"660\",\n          \"1'290\"\n        ],\n        \"semantic_type\": \"\",\n        \"description\": \"\"\n      }\n    },\n    {\n      \"column\": \"Rainfall [mm year -1]\",\n      \"properties\": {\n        \"dtype\": \"string\",\n        \"num_unique_values\": 160,\n        \"samples\": [\n          \"2'763\",\n          \"2'982\",\n          \"2'514\"\n        ],\n        \"semantic_type\": \"\",\n        \"description\": \"\"\n      }\n    },\n    {\n      \"column\": \"Factor L/A [-]\",\n      \"properties\": {\n        \"dtype\": \"number\",\n        \"std\": 0.5135051992878183,\n        \"min\": 1e-05,\n        \"max\": 4.0,\n        \"num_unique_values\": 36,\n        \"samples\": [\n          0.04,\n          0.1,\n          0.0003\n        ],\n        \"semantic_type\": \"\",\n        \"description\": \"\"\n      }\n    },\n    {\n      \"column\": \"Factor (L/A) *P [-]\",\n      \"properties\": {\n        \"dtype\": \"number\",\n        \"std\": 949.6357164411893,\n        \"min\": 0.0,\n        \"max\": 9129.0,\n        \"num_unique_values\": 78,\n        \"samples\": [\n          258.0,\n          14.0,\n          95.0\n        ],\n        \"semantic_type\": \"\",\n        \"description\": \"\"\n      }\n    },\n    {\n      \"column\": \"P[E] [%]\",\n      \"properties\": {\n        \"dtype\": \"string\",\n        \"num_unique_values\": 109,\n        \"samples\": [\n          \"0.02%\",\n          \"3.54%\",\n          \"0.18%\"\n        ],\n        \"semantic_type\": \"\",\n        \"description\": \"\"\n      }\n    },\n    {\n      \"column\": \"MPW (metric tons year -1)\",\n      \"properties\": {\n        \"dtype\": \"string\",\n        \"num_unique_values\": 161,\n        \"samples\": [\n          \"116\",\n          \"119'538\",\n          \"7'502\"\n        ],\n        \"semantic_type\": \"\",\n        \"description\": \"\"\n      }\n    },\n    {\n      \"column\": \"M[E] (metric tons year -1)\",\n      \"properties\": {\n        \"dtype\": \"string\",\n        \"num_unique_values\": 124,\n        \"samples\": [\n          \"1'113\",\n          \"235\",\n          \"808\"\n        ],\n        \"semantic_type\": \"\",\n        \"description\": \"\"\n      }\n    },\n    {\n      \"column\": \"Ratio Me/MPW\",\n      \"properties\": {\n        \"dtype\": \"string\",\n        \"num_unique_values\": 118,\n        \"samples\": [\n          \"1.67%\",\n          \"1.99%\",\n          \"0.89%\"\n        ],\n        \"semantic_type\": \"\",\n        \"description\": \"\"\n      }\n    },\n    {\n      \"column\": \"Unnamed: 10\",\n      \"properties\": {\n        \"dtype\": \"number\",\n        \"std\": null,\n        \"min\": null,\n        \"max\": null,\n        \"num_unique_values\": 0,\n        \"samples\": [],\n        \"semantic_type\": \"\",\n        \"description\": \"\"\n      }\n    },\n    {\n      \"column\": \"Unnamed: 11\",\n      \"properties\": {\n        \"dtype\": \"number\",\n        \"std\": null,\n        \"min\": null,\n        \"max\": null,\n        \"num_unique_values\": 0,\n        \"samples\": [],\n        \"semantic_type\": \"\",\n        \"description\": \"\"\n      }\n    },\n    {\n      \"column\": \"Unnamed: 12\",\n      \"properties\": {\n        \"dtype\": \"number\",\n        \"std\": null,\n        \"min\": null,\n        \"max\": null,\n        \"num_unique_values\": 0,\n        \"samples\": [],\n        \"semantic_type\": \"\",\n        \"description\": \"\"\n      }\n    },\n    {\n      \"column\": \"Unnamed: 13\",\n      \"properties\": {\n        \"dtype\": \"number\",\n        \"std\": null,\n        \"min\": null,\n        \"max\": null,\n        \"num_unique_values\": 0,\n        \"samples\": [],\n        \"semantic_type\": \"\",\n        \"description\": \"\"\n      }\n    }\n  ]\n}"
            }
          },
          "metadata": {},
          "execution_count": 62
        }
      ]
    },
    {
      "cell_type": "markdown",
      "source": [
        "## Clean the data"
      ],
      "metadata": {
        "id": "_cmRoc1d-c2N"
      }
    },
    {
      "cell_type": "markdown",
      "source": [
        "Drop Empty Columns"
      ],
      "metadata": {
        "id": "4-MGRp0-QzZa"
      }
    },
    {
      "cell_type": "code",
      "source": [
        "df = df.drop(columns=[c for c in df.columns if c.startswith(\"Unnamed\")])\n",
        "print(\"Shape after drop:\", df.shape)\n",
        "df.head()"
      ],
      "metadata": {
        "colab": {
          "base_uri": "https://localhost:8080/",
          "height": 0
        },
        "id": "hdvmL8J1RByb",
        "outputId": "01e914c8-688f-4482-97f2-f9b9dfb63e59"
      },
      "execution_count": 63,
      "outputs": [
        {
          "output_type": "stream",
          "name": "stdout",
          "text": [
            "Shape after drop: (165, 10)\n"
          ]
        },
        {
          "output_type": "execute_result",
          "data": {
            "text/plain": [
              "  Country or Administrative area Area [km2] Coast length [km]  \\\n",
              "0                        Albania     28'486               362   \n",
              "1                        Algeria  2'316'559               998   \n",
              "2                         Angola  1'247'357             1'600   \n",
              "3            Antigua and Barbuda        443               153   \n",
              "4                      Argentina  2'779'705             4'989   \n",
              "\n",
              "  Rainfall [mm year -1]  Factor L/A [-]  Factor (L/A) *P [-] P[E] [%]  \\\n",
              "0                 1'117          0.0100                 14.0    1.56%   \n",
              "1                    80          0.0004                  0.0    0.09%   \n",
              "2                 1'025          0.0010                  1.0    0.09%   \n",
              "3                   996          0.3000                344.0    3.08%   \n",
              "4                   567          0.0020                  1.0    0.26%   \n",
              "\n",
              "  MPW (metric tons year -1) M[E] (metric tons year -1) Ratio Me/MPW  \n",
              "0                    69'833                      1'565        2.24%  \n",
              "1                   764'578                      5'774        0.76%  \n",
              "2                   236'946                        860        0.36%  \n",
              "3                       627                          2        0.29%  \n",
              "4                   465'808                      4'137        0.89%  "
            ],
            "text/html": [
              "\n",
              "  <div id=\"df-559d00f2-b206-41f3-aba7-3ea37cb44e7f\" class=\"colab-df-container\">\n",
              "    <div>\n",
              "<style scoped>\n",
              "    .dataframe tbody tr th:only-of-type {\n",
              "        vertical-align: middle;\n",
              "    }\n",
              "\n",
              "    .dataframe tbody tr th {\n",
              "        vertical-align: top;\n",
              "    }\n",
              "\n",
              "    .dataframe thead th {\n",
              "        text-align: right;\n",
              "    }\n",
              "</style>\n",
              "<table border=\"1\" class=\"dataframe\">\n",
              "  <thead>\n",
              "    <tr style=\"text-align: right;\">\n",
              "      <th></th>\n",
              "      <th>Country or Administrative area</th>\n",
              "      <th>Area [km2]</th>\n",
              "      <th>Coast length [km]</th>\n",
              "      <th>Rainfall [mm year -1]</th>\n",
              "      <th>Factor L/A [-]</th>\n",
              "      <th>Factor (L/A) *P [-]</th>\n",
              "      <th>P[E] [%]</th>\n",
              "      <th>MPW (metric tons year -1)</th>\n",
              "      <th>M[E] (metric tons year -1)</th>\n",
              "      <th>Ratio Me/MPW</th>\n",
              "    </tr>\n",
              "  </thead>\n",
              "  <tbody>\n",
              "    <tr>\n",
              "      <th>0</th>\n",
              "      <td>Albania</td>\n",
              "      <td>28'486</td>\n",
              "      <td>362</td>\n",
              "      <td>1'117</td>\n",
              "      <td>0.0100</td>\n",
              "      <td>14.0</td>\n",
              "      <td>1.56%</td>\n",
              "      <td>69'833</td>\n",
              "      <td>1'565</td>\n",
              "      <td>2.24%</td>\n",
              "    </tr>\n",
              "    <tr>\n",
              "      <th>1</th>\n",
              "      <td>Algeria</td>\n",
              "      <td>2'316'559</td>\n",
              "      <td>998</td>\n",
              "      <td>80</td>\n",
              "      <td>0.0004</td>\n",
              "      <td>0.0</td>\n",
              "      <td>0.09%</td>\n",
              "      <td>764'578</td>\n",
              "      <td>5'774</td>\n",
              "      <td>0.76%</td>\n",
              "    </tr>\n",
              "    <tr>\n",
              "      <th>2</th>\n",
              "      <td>Angola</td>\n",
              "      <td>1'247'357</td>\n",
              "      <td>1'600</td>\n",
              "      <td>1'025</td>\n",
              "      <td>0.0010</td>\n",
              "      <td>1.0</td>\n",
              "      <td>0.09%</td>\n",
              "      <td>236'946</td>\n",
              "      <td>860</td>\n",
              "      <td>0.36%</td>\n",
              "    </tr>\n",
              "    <tr>\n",
              "      <th>3</th>\n",
              "      <td>Antigua and Barbuda</td>\n",
              "      <td>443</td>\n",
              "      <td>153</td>\n",
              "      <td>996</td>\n",
              "      <td>0.3000</td>\n",
              "      <td>344.0</td>\n",
              "      <td>3.08%</td>\n",
              "      <td>627</td>\n",
              "      <td>2</td>\n",
              "      <td>0.29%</td>\n",
              "    </tr>\n",
              "    <tr>\n",
              "      <th>4</th>\n",
              "      <td>Argentina</td>\n",
              "      <td>2'779'705</td>\n",
              "      <td>4'989</td>\n",
              "      <td>567</td>\n",
              "      <td>0.0020</td>\n",
              "      <td>1.0</td>\n",
              "      <td>0.26%</td>\n",
              "      <td>465'808</td>\n",
              "      <td>4'137</td>\n",
              "      <td>0.89%</td>\n",
              "    </tr>\n",
              "  </tbody>\n",
              "</table>\n",
              "</div>\n",
              "    <div class=\"colab-df-buttons\">\n",
              "\n",
              "  <div class=\"colab-df-container\">\n",
              "    <button class=\"colab-df-convert\" onclick=\"convertToInteractive('df-559d00f2-b206-41f3-aba7-3ea37cb44e7f')\"\n",
              "            title=\"Convert this dataframe to an interactive table.\"\n",
              "            style=\"display:none;\">\n",
              "\n",
              "  <svg xmlns=\"http://www.w3.org/2000/svg\" height=\"24px\" viewBox=\"0 -960 960 960\">\n",
              "    <path d=\"M120-120v-720h720v720H120Zm60-500h600v-160H180v160Zm220 220h160v-160H400v160Zm0 220h160v-160H400v160ZM180-400h160v-160H180v160Zm440 0h160v-160H620v160ZM180-180h160v-160H180v160Zm440 0h160v-160H620v160Z\"/>\n",
              "  </svg>\n",
              "    </button>\n",
              "\n",
              "  <style>\n",
              "    .colab-df-container {\n",
              "      display:flex;\n",
              "      gap: 12px;\n",
              "    }\n",
              "\n",
              "    .colab-df-convert {\n",
              "      background-color: #E8F0FE;\n",
              "      border: none;\n",
              "      border-radius: 50%;\n",
              "      cursor: pointer;\n",
              "      display: none;\n",
              "      fill: #1967D2;\n",
              "      height: 32px;\n",
              "      padding: 0 0 0 0;\n",
              "      width: 32px;\n",
              "    }\n",
              "\n",
              "    .colab-df-convert:hover {\n",
              "      background-color: #E2EBFA;\n",
              "      box-shadow: 0px 1px 2px rgba(60, 64, 67, 0.3), 0px 1px 3px 1px rgba(60, 64, 67, 0.15);\n",
              "      fill: #174EA6;\n",
              "    }\n",
              "\n",
              "    .colab-df-buttons div {\n",
              "      margin-bottom: 4px;\n",
              "    }\n",
              "\n",
              "    [theme=dark] .colab-df-convert {\n",
              "      background-color: #3B4455;\n",
              "      fill: #D2E3FC;\n",
              "    }\n",
              "\n",
              "    [theme=dark] .colab-df-convert:hover {\n",
              "      background-color: #434B5C;\n",
              "      box-shadow: 0px 1px 3px 1px rgba(0, 0, 0, 0.15);\n",
              "      filter: drop-shadow(0px 1px 2px rgba(0, 0, 0, 0.3));\n",
              "      fill: #FFFFFF;\n",
              "    }\n",
              "  </style>\n",
              "\n",
              "    <script>\n",
              "      const buttonEl =\n",
              "        document.querySelector('#df-559d00f2-b206-41f3-aba7-3ea37cb44e7f button.colab-df-convert');\n",
              "      buttonEl.style.display =\n",
              "        google.colab.kernel.accessAllowed ? 'block' : 'none';\n",
              "\n",
              "      async function convertToInteractive(key) {\n",
              "        const element = document.querySelector('#df-559d00f2-b206-41f3-aba7-3ea37cb44e7f');\n",
              "        const dataTable =\n",
              "          await google.colab.kernel.invokeFunction('convertToInteractive',\n",
              "                                                    [key], {});\n",
              "        if (!dataTable) return;\n",
              "\n",
              "        const docLinkHtml = 'Like what you see? Visit the ' +\n",
              "          '<a target=\"_blank\" href=https://colab.research.google.com/notebooks/data_table.ipynb>data table notebook</a>'\n",
              "          + ' to learn more about interactive tables.';\n",
              "        element.innerHTML = '';\n",
              "        dataTable['output_type'] = 'display_data';\n",
              "        await google.colab.output.renderOutput(dataTable, element);\n",
              "        const docLink = document.createElement('div');\n",
              "        docLink.innerHTML = docLinkHtml;\n",
              "        element.appendChild(docLink);\n",
              "      }\n",
              "    </script>\n",
              "  </div>\n",
              "\n",
              "\n",
              "    <div id=\"df-74c9c049-2ceb-4a44-a397-04ff9c94f2b1\">\n",
              "      <button class=\"colab-df-quickchart\" onclick=\"quickchart('df-74c9c049-2ceb-4a44-a397-04ff9c94f2b1')\"\n",
              "                title=\"Suggest charts\"\n",
              "                style=\"display:none;\">\n",
              "\n",
              "<svg xmlns=\"http://www.w3.org/2000/svg\" height=\"24px\"viewBox=\"0 0 24 24\"\n",
              "     width=\"24px\">\n",
              "    <g>\n",
              "        <path d=\"M19 3H5c-1.1 0-2 .9-2 2v14c0 1.1.9 2 2 2h14c1.1 0 2-.9 2-2V5c0-1.1-.9-2-2-2zM9 17H7v-7h2v7zm4 0h-2V7h2v10zm4 0h-2v-4h2v4z\"/>\n",
              "    </g>\n",
              "</svg>\n",
              "      </button>\n",
              "\n",
              "<style>\n",
              "  .colab-df-quickchart {\n",
              "      --bg-color: #E8F0FE;\n",
              "      --fill-color: #1967D2;\n",
              "      --hover-bg-color: #E2EBFA;\n",
              "      --hover-fill-color: #174EA6;\n",
              "      --disabled-fill-color: #AAA;\n",
              "      --disabled-bg-color: #DDD;\n",
              "  }\n",
              "\n",
              "  [theme=dark] .colab-df-quickchart {\n",
              "      --bg-color: #3B4455;\n",
              "      --fill-color: #D2E3FC;\n",
              "      --hover-bg-color: #434B5C;\n",
              "      --hover-fill-color: #FFFFFF;\n",
              "      --disabled-bg-color: #3B4455;\n",
              "      --disabled-fill-color: #666;\n",
              "  }\n",
              "\n",
              "  .colab-df-quickchart {\n",
              "    background-color: var(--bg-color);\n",
              "    border: none;\n",
              "    border-radius: 50%;\n",
              "    cursor: pointer;\n",
              "    display: none;\n",
              "    fill: var(--fill-color);\n",
              "    height: 32px;\n",
              "    padding: 0;\n",
              "    width: 32px;\n",
              "  }\n",
              "\n",
              "  .colab-df-quickchart:hover {\n",
              "    background-color: var(--hover-bg-color);\n",
              "    box-shadow: 0 1px 2px rgba(60, 64, 67, 0.3), 0 1px 3px 1px rgba(60, 64, 67, 0.15);\n",
              "    fill: var(--button-hover-fill-color);\n",
              "  }\n",
              "\n",
              "  .colab-df-quickchart-complete:disabled,\n",
              "  .colab-df-quickchart-complete:disabled:hover {\n",
              "    background-color: var(--disabled-bg-color);\n",
              "    fill: var(--disabled-fill-color);\n",
              "    box-shadow: none;\n",
              "  }\n",
              "\n",
              "  .colab-df-spinner {\n",
              "    border: 2px solid var(--fill-color);\n",
              "    border-color: transparent;\n",
              "    border-bottom-color: var(--fill-color);\n",
              "    animation:\n",
              "      spin 1s steps(1) infinite;\n",
              "  }\n",
              "\n",
              "  @keyframes spin {\n",
              "    0% {\n",
              "      border-color: transparent;\n",
              "      border-bottom-color: var(--fill-color);\n",
              "      border-left-color: var(--fill-color);\n",
              "    }\n",
              "    20% {\n",
              "      border-color: transparent;\n",
              "      border-left-color: var(--fill-color);\n",
              "      border-top-color: var(--fill-color);\n",
              "    }\n",
              "    30% {\n",
              "      border-color: transparent;\n",
              "      border-left-color: var(--fill-color);\n",
              "      border-top-color: var(--fill-color);\n",
              "      border-right-color: var(--fill-color);\n",
              "    }\n",
              "    40% {\n",
              "      border-color: transparent;\n",
              "      border-right-color: var(--fill-color);\n",
              "      border-top-color: var(--fill-color);\n",
              "    }\n",
              "    60% {\n",
              "      border-color: transparent;\n",
              "      border-right-color: var(--fill-color);\n",
              "    }\n",
              "    80% {\n",
              "      border-color: transparent;\n",
              "      border-right-color: var(--fill-color);\n",
              "      border-bottom-color: var(--fill-color);\n",
              "    }\n",
              "    90% {\n",
              "      border-color: transparent;\n",
              "      border-bottom-color: var(--fill-color);\n",
              "    }\n",
              "  }\n",
              "</style>\n",
              "\n",
              "      <script>\n",
              "        async function quickchart(key) {\n",
              "          const quickchartButtonEl =\n",
              "            document.querySelector('#' + key + ' button');\n",
              "          quickchartButtonEl.disabled = true;  // To prevent multiple clicks.\n",
              "          quickchartButtonEl.classList.add('colab-df-spinner');\n",
              "          try {\n",
              "            const charts = await google.colab.kernel.invokeFunction(\n",
              "                'suggestCharts', [key], {});\n",
              "          } catch (error) {\n",
              "            console.error('Error during call to suggestCharts:', error);\n",
              "          }\n",
              "          quickchartButtonEl.classList.remove('colab-df-spinner');\n",
              "          quickchartButtonEl.classList.add('colab-df-quickchart-complete');\n",
              "        }\n",
              "        (() => {\n",
              "          let quickchartButtonEl =\n",
              "            document.querySelector('#df-74c9c049-2ceb-4a44-a397-04ff9c94f2b1 button');\n",
              "          quickchartButtonEl.style.display =\n",
              "            google.colab.kernel.accessAllowed ? 'block' : 'none';\n",
              "        })();\n",
              "      </script>\n",
              "    </div>\n",
              "\n",
              "    </div>\n",
              "  </div>\n"
            ],
            "application/vnd.google.colaboratory.intrinsic+json": {
              "type": "dataframe",
              "variable_name": "df",
              "summary": "{\n  \"name\": \"df\",\n  \"rows\": 165,\n  \"fields\": [\n    {\n      \"column\": \"Country or Administrative area\",\n      \"properties\": {\n        \"dtype\": \"string\",\n        \"num_unique_values\": 163,\n        \"samples\": [\n          \"Somalia \",\n          \"Puerto Rico \",\n          \"Sint Maarten \"\n        ],\n        \"semantic_type\": \"\",\n        \"description\": \"\"\n      }\n    },\n    {\n      \"column\": \"Area [km2]\",\n      \"properties\": {\n        \"dtype\": \"string\",\n        \"num_unique_values\": 163,\n        \"samples\": [\n          \"633'217\",\n          \"9'018\",\n          \"41\"\n        ],\n        \"semantic_type\": \"\",\n        \"description\": \"\"\n      }\n    },\n    {\n      \"column\": \"Coast length [km]\",\n      \"properties\": {\n        \"dtype\": \"string\",\n        \"num_unique_values\": 145,\n        \"samples\": [\n          \"26\",\n          \"660\",\n          \"1'290\"\n        ],\n        \"semantic_type\": \"\",\n        \"description\": \"\"\n      }\n    },\n    {\n      \"column\": \"Rainfall [mm year -1]\",\n      \"properties\": {\n        \"dtype\": \"string\",\n        \"num_unique_values\": 160,\n        \"samples\": [\n          \"2'763\",\n          \"2'982\",\n          \"2'514\"\n        ],\n        \"semantic_type\": \"\",\n        \"description\": \"\"\n      }\n    },\n    {\n      \"column\": \"Factor L/A [-]\",\n      \"properties\": {\n        \"dtype\": \"number\",\n        \"std\": 0.5135051992878183,\n        \"min\": 1e-05,\n        \"max\": 4.0,\n        \"num_unique_values\": 36,\n        \"samples\": [\n          0.04,\n          0.1,\n          0.0003\n        ],\n        \"semantic_type\": \"\",\n        \"description\": \"\"\n      }\n    },\n    {\n      \"column\": \"Factor (L/A) *P [-]\",\n      \"properties\": {\n        \"dtype\": \"number\",\n        \"std\": 949.6357164411893,\n        \"min\": 0.0,\n        \"max\": 9129.0,\n        \"num_unique_values\": 78,\n        \"samples\": [\n          258.0,\n          14.0,\n          95.0\n        ],\n        \"semantic_type\": \"\",\n        \"description\": \"\"\n      }\n    },\n    {\n      \"column\": \"P[E] [%]\",\n      \"properties\": {\n        \"dtype\": \"string\",\n        \"num_unique_values\": 109,\n        \"samples\": [\n          \"0.02%\",\n          \"3.54%\",\n          \"0.18%\"\n        ],\n        \"semantic_type\": \"\",\n        \"description\": \"\"\n      }\n    },\n    {\n      \"column\": \"MPW (metric tons year -1)\",\n      \"properties\": {\n        \"dtype\": \"string\",\n        \"num_unique_values\": 161,\n        \"samples\": [\n          \"116\",\n          \"119'538\",\n          \"7'502\"\n        ],\n        \"semantic_type\": \"\",\n        \"description\": \"\"\n      }\n    },\n    {\n      \"column\": \"M[E] (metric tons year -1)\",\n      \"properties\": {\n        \"dtype\": \"string\",\n        \"num_unique_values\": 124,\n        \"samples\": [\n          \"1'113\",\n          \"235\",\n          \"808\"\n        ],\n        \"semantic_type\": \"\",\n        \"description\": \"\"\n      }\n    },\n    {\n      \"column\": \"Ratio Me/MPW\",\n      \"properties\": {\n        \"dtype\": \"string\",\n        \"num_unique_values\": 118,\n        \"samples\": [\n          \"1.67%\",\n          \"1.99%\",\n          \"0.89%\"\n        ],\n        \"semantic_type\": \"\",\n        \"description\": \"\"\n      }\n    }\n  ]\n}"
            }
          },
          "metadata": {},
          "execution_count": 63
        }
      ]
    },
    {
      "cell_type": "code",
      "source": [
        "def clean_numeric(col):\n",
        "    return (\n",
        "        col\n",
        "        .astype(str)\n",
        "        # keep only digits\n",
        "        .str.replace(r'[^\\d.]', '', regex=True)\n",
        "\n",
        "        # turn empty strings into NaN\n",
        "        .replace('', np.nan)\n",
        "\n",
        "        # cast to float\n",
        "        .astype(float)\n",
        "    )"
      ],
      "metadata": {
        "id": "w5W8CDQE3PSi"
      },
      "execution_count": 64,
      "outputs": []
    },
    {
      "cell_type": "markdown",
      "source": [
        "Then apply to every non-country column"
      ],
      "metadata": {
        "id": "zX2RLmN_JbcM"
      }
    },
    {
      "cell_type": "code",
      "source": [
        "for c in df.columns:\n",
        "    if c != 'Country or Administrative area':\n",
        "        df[c] = clean_numeric(df[c])"
      ],
      "metadata": {
        "id": "bAzOT_0kHW2M"
      },
      "execution_count": 65,
      "outputs": []
    },
    {
      "cell_type": "markdown",
      "source": [
        "Check the data types"
      ],
      "metadata": {
        "id": "KZcQ5BAOGOwt"
      }
    },
    {
      "cell_type": "code",
      "source": [
        "print(df.dtypes)"
      ],
      "metadata": {
        "colab": {
          "base_uri": "https://localhost:8080/"
        },
        "id": "k9lMWDR3GJyU",
        "outputId": "5467bc9f-4fb1-4ced-d833-1cb55af022ae"
      },
      "execution_count": 66,
      "outputs": [
        {
          "output_type": "stream",
          "name": "stdout",
          "text": [
            "Country or Administrative area     object\n",
            "Area [km2]                        float64\n",
            "Coast length [km]                 float64\n",
            "Rainfall [mm year -1]             float64\n",
            "Factor L/A [-]                    float64\n",
            "Factor (L/A) *P [-]               float64\n",
            "P[E] [%]                          float64\n",
            "MPW (metric tons year -1)         float64\n",
            "M[E] (metric tons year -1)        float64\n",
            "Ratio Me/MPW                      float64\n",
            "dtype: object\n"
          ]
        }
      ]
    },
    {
      "cell_type": "markdown",
      "source": [
        "## Fill Missing Values"
      ],
      "metadata": {
        "id": "NSVltLdMAYRp"
      }
    },
    {
      "cell_type": "code",
      "source": [
        "numeric_cols = df.select_dtypes(include=[np.number]).columns\n",
        "for c in numeric_cols:\n",
        "    roll = df[c].rolling(window=3, center=True, min_periods=1).mean()\n",
        "    mask = df[c].isna()\n",
        "    df.loc[mask, c] = roll[mask]"
      ],
      "metadata": {
        "id": "nTqp53Cl3T7t"
      },
      "execution_count": 67,
      "outputs": []
    },
    {
      "cell_type": "markdown",
      "source": [
        "Confirm no NaNs remain\n"
      ],
      "metadata": {
        "id": "nMpLtnZXHlDh"
      }
    },
    {
      "cell_type": "code",
      "source": [
        "print(df[numeric_cols].isna().sum())"
      ],
      "metadata": {
        "colab": {
          "base_uri": "https://localhost:8080/"
        },
        "id": "E7bydsu5HoNE",
        "outputId": "283df14b-d649-4432-f012-91301c589cd0"
      },
      "execution_count": 68,
      "outputs": [
        {
          "output_type": "stream",
          "name": "stdout",
          "text": [
            "Area [km2]                    0\n",
            "Coast length [km]             0\n",
            "Rainfall [mm year -1]         0\n",
            "Factor L/A [-]                0\n",
            "Factor (L/A) *P [-]           0\n",
            "P[E] [%]                      0\n",
            "MPW (metric tons year -1)     0\n",
            "M[E] (metric tons year -1)    0\n",
            "Ratio Me/MPW                  0\n",
            "dtype: int64\n"
          ]
        }
      ]
    },
    {
      "cell_type": "markdown",
      "source": [
        "## Label the data"
      ],
      "metadata": {
        "id": "j8G_ZuLiIVCz"
      }
    },
    {
      "cell_type": "markdown",
      "source": [
        "Create binary label (0=high>6008, 1=low≤6008)"
      ],
      "metadata": {
        "id": "NrgieZxRH50-"
      }
    },
    {
      "cell_type": "code",
      "source": [
        "col = 'M[E] (metric tons year -1)'\n",
        "df['plastic_contribution'] = (df[col] <= 6008).astype(int)"
      ],
      "metadata": {
        "id": "5Lf3HeBv3ZJE"
      },
      "execution_count": 69,
      "outputs": []
    },
    {
      "cell_type": "code",
      "source": [
        "print(df['plastic_contribution'].value_counts())"
      ],
      "metadata": {
        "colab": {
          "base_uri": "https://localhost:8080/"
        },
        "id": "Bd99sO6HIg0G",
        "outputId": "410d7301-a08c-4fdf-f3c5-2f43271b5b05"
      },
      "execution_count": 70,
      "outputs": [
        {
          "output_type": "stream",
          "name": "stdout",
          "text": [
            "plastic_contribution\n",
            "1    149\n",
            "0     16\n",
            "Name: count, dtype: int64\n"
          ]
        }
      ]
    },
    {
      "cell_type": "markdown",
      "source": [
        "Build feature matrix X and target y"
      ],
      "metadata": {
        "id": "bODF8wFhVq2P"
      }
    },
    {
      "cell_type": "code",
      "source": [
        "X = df.drop([col, 'plastic_contribution', 'Country or Administrative area'], axis=1, errors='ignore')\n",
        "X = X.select_dtypes(include=[np.number])\n",
        "y = df['plastic_contribution']\n",
        "print(\"X shape:\", X.shape, \"  y dist:\\n\", y.value_counts())"
      ],
      "metadata": {
        "colab": {
          "base_uri": "https://localhost:8080/"
        },
        "id": "A64atchP3Z_r",
        "outputId": "e2f9cf7c-6e0f-428e-9130-da85c013599c"
      },
      "execution_count": 71,
      "outputs": [
        {
          "output_type": "stream",
          "name": "stdout",
          "text": [
            "X shape: (165, 8)   y dist:\n",
            " plastic_contribution\n",
            "1    149\n",
            "0     16\n",
            "Name: count, dtype: int64\n"
          ]
        }
      ]
    },
    {
      "cell_type": "markdown",
      "source": [
        "## Split data into train/test"
      ],
      "metadata": {
        "id": "rNsyf5A-L4z5"
      }
    },
    {
      "cell_type": "code",
      "source": [
        "X_train, X_test, y_train, y_test = train_test_split(\n",
        "    X, y, test_size=0.2, random_state=42, stratify=y\n",
        ")\n",
        "print(\"Train:\", X_train.shape, \"Test:\", X_test.shape)"
      ],
      "metadata": {
        "colab": {
          "base_uri": "https://localhost:8080/"
        },
        "id": "p5mRYYj43cIU",
        "outputId": "44d9c3b6-c686-4ba7-e6de-c8668de8957f"
      },
      "execution_count": 72,
      "outputs": [
        {
          "output_type": "stream",
          "name": "stdout",
          "text": [
            "Train: (132, 8) Test: (33, 8)\n"
          ]
        }
      ]
    },
    {
      "cell_type": "markdown",
      "source": [
        "## Scale features"
      ],
      "metadata": {
        "id": "lO2axQG7MCAg"
      }
    },
    {
      "cell_type": "code",
      "source": [
        "scaler = StandardScaler()\n",
        "X_train_scaled = scaler.fit_transform(X_train)\n",
        "X_test_scaled  = scaler.transform(X_test)"
      ],
      "metadata": {
        "id": "3t3x3nW33gpW"
      },
      "execution_count": 73,
      "outputs": []
    },
    {
      "cell_type": "markdown",
      "source": [
        "## Train logistic regression model"
      ],
      "metadata": {
        "id": "jHb9PHphMO3t"
      }
    },
    {
      "cell_type": "code",
      "source": [
        "model = LogisticRegression(class_weight='balanced', random_state=42)\n",
        "model.fit(X_train_scaled, y_train)"
      ],
      "metadata": {
        "colab": {
          "base_uri": "https://localhost:8080/",
          "height": 0
        },
        "id": "xi44noqk3ivO",
        "outputId": "a93fc782-28ea-422e-dc55-ae5d02cc67de"
      },
      "execution_count": 74,
      "outputs": [
        {
          "output_type": "execute_result",
          "data": {
            "text/plain": [
              "LogisticRegression(class_weight='balanced', random_state=42)"
            ],
            "text/html": [
              "<style>#sk-container-id-3 {\n",
              "  /* Definition of color scheme common for light and dark mode */\n",
              "  --sklearn-color-text: #000;\n",
              "  --sklearn-color-text-muted: #666;\n",
              "  --sklearn-color-line: gray;\n",
              "  /* Definition of color scheme for unfitted estimators */\n",
              "  --sklearn-color-unfitted-level-0: #fff5e6;\n",
              "  --sklearn-color-unfitted-level-1: #f6e4d2;\n",
              "  --sklearn-color-unfitted-level-2: #ffe0b3;\n",
              "  --sklearn-color-unfitted-level-3: chocolate;\n",
              "  /* Definition of color scheme for fitted estimators */\n",
              "  --sklearn-color-fitted-level-0: #f0f8ff;\n",
              "  --sklearn-color-fitted-level-1: #d4ebff;\n",
              "  --sklearn-color-fitted-level-2: #b3dbfd;\n",
              "  --sklearn-color-fitted-level-3: cornflowerblue;\n",
              "\n",
              "  /* Specific color for light theme */\n",
              "  --sklearn-color-text-on-default-background: var(--sg-text-color, var(--theme-code-foreground, var(--jp-content-font-color1, black)));\n",
              "  --sklearn-color-background: var(--sg-background-color, var(--theme-background, var(--jp-layout-color0, white)));\n",
              "  --sklearn-color-border-box: var(--sg-text-color, var(--theme-code-foreground, var(--jp-content-font-color1, black)));\n",
              "  --sklearn-color-icon: #696969;\n",
              "\n",
              "  @media (prefers-color-scheme: dark) {\n",
              "    /* Redefinition of color scheme for dark theme */\n",
              "    --sklearn-color-text-on-default-background: var(--sg-text-color, var(--theme-code-foreground, var(--jp-content-font-color1, white)));\n",
              "    --sklearn-color-background: var(--sg-background-color, var(--theme-background, var(--jp-layout-color0, #111)));\n",
              "    --sklearn-color-border-box: var(--sg-text-color, var(--theme-code-foreground, var(--jp-content-font-color1, white)));\n",
              "    --sklearn-color-icon: #878787;\n",
              "  }\n",
              "}\n",
              "\n",
              "#sk-container-id-3 {\n",
              "  color: var(--sklearn-color-text);\n",
              "}\n",
              "\n",
              "#sk-container-id-3 pre {\n",
              "  padding: 0;\n",
              "}\n",
              "\n",
              "#sk-container-id-3 input.sk-hidden--visually {\n",
              "  border: 0;\n",
              "  clip: rect(1px 1px 1px 1px);\n",
              "  clip: rect(1px, 1px, 1px, 1px);\n",
              "  height: 1px;\n",
              "  margin: -1px;\n",
              "  overflow: hidden;\n",
              "  padding: 0;\n",
              "  position: absolute;\n",
              "  width: 1px;\n",
              "}\n",
              "\n",
              "#sk-container-id-3 div.sk-dashed-wrapped {\n",
              "  border: 1px dashed var(--sklearn-color-line);\n",
              "  margin: 0 0.4em 0.5em 0.4em;\n",
              "  box-sizing: border-box;\n",
              "  padding-bottom: 0.4em;\n",
              "  background-color: var(--sklearn-color-background);\n",
              "}\n",
              "\n",
              "#sk-container-id-3 div.sk-container {\n",
              "  /* jupyter's `normalize.less` sets `[hidden] { display: none; }`\n",
              "     but bootstrap.min.css set `[hidden] { display: none !important; }`\n",
              "     so we also need the `!important` here to be able to override the\n",
              "     default hidden behavior on the sphinx rendered scikit-learn.org.\n",
              "     See: https://github.com/scikit-learn/scikit-learn/issues/21755 */\n",
              "  display: inline-block !important;\n",
              "  position: relative;\n",
              "}\n",
              "\n",
              "#sk-container-id-3 div.sk-text-repr-fallback {\n",
              "  display: none;\n",
              "}\n",
              "\n",
              "div.sk-parallel-item,\n",
              "div.sk-serial,\n",
              "div.sk-item {\n",
              "  /* draw centered vertical line to link estimators */\n",
              "  background-image: linear-gradient(var(--sklearn-color-text-on-default-background), var(--sklearn-color-text-on-default-background));\n",
              "  background-size: 2px 100%;\n",
              "  background-repeat: no-repeat;\n",
              "  background-position: center center;\n",
              "}\n",
              "\n",
              "/* Parallel-specific style estimator block */\n",
              "\n",
              "#sk-container-id-3 div.sk-parallel-item::after {\n",
              "  content: \"\";\n",
              "  width: 100%;\n",
              "  border-bottom: 2px solid var(--sklearn-color-text-on-default-background);\n",
              "  flex-grow: 1;\n",
              "}\n",
              "\n",
              "#sk-container-id-3 div.sk-parallel {\n",
              "  display: flex;\n",
              "  align-items: stretch;\n",
              "  justify-content: center;\n",
              "  background-color: var(--sklearn-color-background);\n",
              "  position: relative;\n",
              "}\n",
              "\n",
              "#sk-container-id-3 div.sk-parallel-item {\n",
              "  display: flex;\n",
              "  flex-direction: column;\n",
              "}\n",
              "\n",
              "#sk-container-id-3 div.sk-parallel-item:first-child::after {\n",
              "  align-self: flex-end;\n",
              "  width: 50%;\n",
              "}\n",
              "\n",
              "#sk-container-id-3 div.sk-parallel-item:last-child::after {\n",
              "  align-self: flex-start;\n",
              "  width: 50%;\n",
              "}\n",
              "\n",
              "#sk-container-id-3 div.sk-parallel-item:only-child::after {\n",
              "  width: 0;\n",
              "}\n",
              "\n",
              "/* Serial-specific style estimator block */\n",
              "\n",
              "#sk-container-id-3 div.sk-serial {\n",
              "  display: flex;\n",
              "  flex-direction: column;\n",
              "  align-items: center;\n",
              "  background-color: var(--sklearn-color-background);\n",
              "  padding-right: 1em;\n",
              "  padding-left: 1em;\n",
              "}\n",
              "\n",
              "\n",
              "/* Toggleable style: style used for estimator/Pipeline/ColumnTransformer box that is\n",
              "clickable and can be expanded/collapsed.\n",
              "- Pipeline and ColumnTransformer use this feature and define the default style\n",
              "- Estimators will overwrite some part of the style using the `sk-estimator` class\n",
              "*/\n",
              "\n",
              "/* Pipeline and ColumnTransformer style (default) */\n",
              "\n",
              "#sk-container-id-3 div.sk-toggleable {\n",
              "  /* Default theme specific background. It is overwritten whether we have a\n",
              "  specific estimator or a Pipeline/ColumnTransformer */\n",
              "  background-color: var(--sklearn-color-background);\n",
              "}\n",
              "\n",
              "/* Toggleable label */\n",
              "#sk-container-id-3 label.sk-toggleable__label {\n",
              "  cursor: pointer;\n",
              "  display: flex;\n",
              "  width: 100%;\n",
              "  margin-bottom: 0;\n",
              "  padding: 0.5em;\n",
              "  box-sizing: border-box;\n",
              "  text-align: center;\n",
              "  align-items: start;\n",
              "  justify-content: space-between;\n",
              "  gap: 0.5em;\n",
              "}\n",
              "\n",
              "#sk-container-id-3 label.sk-toggleable__label .caption {\n",
              "  font-size: 0.6rem;\n",
              "  font-weight: lighter;\n",
              "  color: var(--sklearn-color-text-muted);\n",
              "}\n",
              "\n",
              "#sk-container-id-3 label.sk-toggleable__label-arrow:before {\n",
              "  /* Arrow on the left of the label */\n",
              "  content: \"▸\";\n",
              "  float: left;\n",
              "  margin-right: 0.25em;\n",
              "  color: var(--sklearn-color-icon);\n",
              "}\n",
              "\n",
              "#sk-container-id-3 label.sk-toggleable__label-arrow:hover:before {\n",
              "  color: var(--sklearn-color-text);\n",
              "}\n",
              "\n",
              "/* Toggleable content - dropdown */\n",
              "\n",
              "#sk-container-id-3 div.sk-toggleable__content {\n",
              "  max-height: 0;\n",
              "  max-width: 0;\n",
              "  overflow: hidden;\n",
              "  text-align: left;\n",
              "  /* unfitted */\n",
              "  background-color: var(--sklearn-color-unfitted-level-0);\n",
              "}\n",
              "\n",
              "#sk-container-id-3 div.sk-toggleable__content.fitted {\n",
              "  /* fitted */\n",
              "  background-color: var(--sklearn-color-fitted-level-0);\n",
              "}\n",
              "\n",
              "#sk-container-id-3 div.sk-toggleable__content pre {\n",
              "  margin: 0.2em;\n",
              "  border-radius: 0.25em;\n",
              "  color: var(--sklearn-color-text);\n",
              "  /* unfitted */\n",
              "  background-color: var(--sklearn-color-unfitted-level-0);\n",
              "}\n",
              "\n",
              "#sk-container-id-3 div.sk-toggleable__content.fitted pre {\n",
              "  /* unfitted */\n",
              "  background-color: var(--sklearn-color-fitted-level-0);\n",
              "}\n",
              "\n",
              "#sk-container-id-3 input.sk-toggleable__control:checked~div.sk-toggleable__content {\n",
              "  /* Expand drop-down */\n",
              "  max-height: 200px;\n",
              "  max-width: 100%;\n",
              "  overflow: auto;\n",
              "}\n",
              "\n",
              "#sk-container-id-3 input.sk-toggleable__control:checked~label.sk-toggleable__label-arrow:before {\n",
              "  content: \"▾\";\n",
              "}\n",
              "\n",
              "/* Pipeline/ColumnTransformer-specific style */\n",
              "\n",
              "#sk-container-id-3 div.sk-label input.sk-toggleable__control:checked~label.sk-toggleable__label {\n",
              "  color: var(--sklearn-color-text);\n",
              "  background-color: var(--sklearn-color-unfitted-level-2);\n",
              "}\n",
              "\n",
              "#sk-container-id-3 div.sk-label.fitted input.sk-toggleable__control:checked~label.sk-toggleable__label {\n",
              "  background-color: var(--sklearn-color-fitted-level-2);\n",
              "}\n",
              "\n",
              "/* Estimator-specific style */\n",
              "\n",
              "/* Colorize estimator box */\n",
              "#sk-container-id-3 div.sk-estimator input.sk-toggleable__control:checked~label.sk-toggleable__label {\n",
              "  /* unfitted */\n",
              "  background-color: var(--sklearn-color-unfitted-level-2);\n",
              "}\n",
              "\n",
              "#sk-container-id-3 div.sk-estimator.fitted input.sk-toggleable__control:checked~label.sk-toggleable__label {\n",
              "  /* fitted */\n",
              "  background-color: var(--sklearn-color-fitted-level-2);\n",
              "}\n",
              "\n",
              "#sk-container-id-3 div.sk-label label.sk-toggleable__label,\n",
              "#sk-container-id-3 div.sk-label label {\n",
              "  /* The background is the default theme color */\n",
              "  color: var(--sklearn-color-text-on-default-background);\n",
              "}\n",
              "\n",
              "/* On hover, darken the color of the background */\n",
              "#sk-container-id-3 div.sk-label:hover label.sk-toggleable__label {\n",
              "  color: var(--sklearn-color-text);\n",
              "  background-color: var(--sklearn-color-unfitted-level-2);\n",
              "}\n",
              "\n",
              "/* Label box, darken color on hover, fitted */\n",
              "#sk-container-id-3 div.sk-label.fitted:hover label.sk-toggleable__label.fitted {\n",
              "  color: var(--sklearn-color-text);\n",
              "  background-color: var(--sklearn-color-fitted-level-2);\n",
              "}\n",
              "\n",
              "/* Estimator label */\n",
              "\n",
              "#sk-container-id-3 div.sk-label label {\n",
              "  font-family: monospace;\n",
              "  font-weight: bold;\n",
              "  display: inline-block;\n",
              "  line-height: 1.2em;\n",
              "}\n",
              "\n",
              "#sk-container-id-3 div.sk-label-container {\n",
              "  text-align: center;\n",
              "}\n",
              "\n",
              "/* Estimator-specific */\n",
              "#sk-container-id-3 div.sk-estimator {\n",
              "  font-family: monospace;\n",
              "  border: 1px dotted var(--sklearn-color-border-box);\n",
              "  border-radius: 0.25em;\n",
              "  box-sizing: border-box;\n",
              "  margin-bottom: 0.5em;\n",
              "  /* unfitted */\n",
              "  background-color: var(--sklearn-color-unfitted-level-0);\n",
              "}\n",
              "\n",
              "#sk-container-id-3 div.sk-estimator.fitted {\n",
              "  /* fitted */\n",
              "  background-color: var(--sklearn-color-fitted-level-0);\n",
              "}\n",
              "\n",
              "/* on hover */\n",
              "#sk-container-id-3 div.sk-estimator:hover {\n",
              "  /* unfitted */\n",
              "  background-color: var(--sklearn-color-unfitted-level-2);\n",
              "}\n",
              "\n",
              "#sk-container-id-3 div.sk-estimator.fitted:hover {\n",
              "  /* fitted */\n",
              "  background-color: var(--sklearn-color-fitted-level-2);\n",
              "}\n",
              "\n",
              "/* Specification for estimator info (e.g. \"i\" and \"?\") */\n",
              "\n",
              "/* Common style for \"i\" and \"?\" */\n",
              "\n",
              ".sk-estimator-doc-link,\n",
              "a:link.sk-estimator-doc-link,\n",
              "a:visited.sk-estimator-doc-link {\n",
              "  float: right;\n",
              "  font-size: smaller;\n",
              "  line-height: 1em;\n",
              "  font-family: monospace;\n",
              "  background-color: var(--sklearn-color-background);\n",
              "  border-radius: 1em;\n",
              "  height: 1em;\n",
              "  width: 1em;\n",
              "  text-decoration: none !important;\n",
              "  margin-left: 0.5em;\n",
              "  text-align: center;\n",
              "  /* unfitted */\n",
              "  border: var(--sklearn-color-unfitted-level-1) 1pt solid;\n",
              "  color: var(--sklearn-color-unfitted-level-1);\n",
              "}\n",
              "\n",
              ".sk-estimator-doc-link.fitted,\n",
              "a:link.sk-estimator-doc-link.fitted,\n",
              "a:visited.sk-estimator-doc-link.fitted {\n",
              "  /* fitted */\n",
              "  border: var(--sklearn-color-fitted-level-1) 1pt solid;\n",
              "  color: var(--sklearn-color-fitted-level-1);\n",
              "}\n",
              "\n",
              "/* On hover */\n",
              "div.sk-estimator:hover .sk-estimator-doc-link:hover,\n",
              ".sk-estimator-doc-link:hover,\n",
              "div.sk-label-container:hover .sk-estimator-doc-link:hover,\n",
              ".sk-estimator-doc-link:hover {\n",
              "  /* unfitted */\n",
              "  background-color: var(--sklearn-color-unfitted-level-3);\n",
              "  color: var(--sklearn-color-background);\n",
              "  text-decoration: none;\n",
              "}\n",
              "\n",
              "div.sk-estimator.fitted:hover .sk-estimator-doc-link.fitted:hover,\n",
              ".sk-estimator-doc-link.fitted:hover,\n",
              "div.sk-label-container:hover .sk-estimator-doc-link.fitted:hover,\n",
              ".sk-estimator-doc-link.fitted:hover {\n",
              "  /* fitted */\n",
              "  background-color: var(--sklearn-color-fitted-level-3);\n",
              "  color: var(--sklearn-color-background);\n",
              "  text-decoration: none;\n",
              "}\n",
              "\n",
              "/* Span, style for the box shown on hovering the info icon */\n",
              ".sk-estimator-doc-link span {\n",
              "  display: none;\n",
              "  z-index: 9999;\n",
              "  position: relative;\n",
              "  font-weight: normal;\n",
              "  right: .2ex;\n",
              "  padding: .5ex;\n",
              "  margin: .5ex;\n",
              "  width: min-content;\n",
              "  min-width: 20ex;\n",
              "  max-width: 50ex;\n",
              "  color: var(--sklearn-color-text);\n",
              "  box-shadow: 2pt 2pt 4pt #999;\n",
              "  /* unfitted */\n",
              "  background: var(--sklearn-color-unfitted-level-0);\n",
              "  border: .5pt solid var(--sklearn-color-unfitted-level-3);\n",
              "}\n",
              "\n",
              ".sk-estimator-doc-link.fitted span {\n",
              "  /* fitted */\n",
              "  background: var(--sklearn-color-fitted-level-0);\n",
              "  border: var(--sklearn-color-fitted-level-3);\n",
              "}\n",
              "\n",
              ".sk-estimator-doc-link:hover span {\n",
              "  display: block;\n",
              "}\n",
              "\n",
              "/* \"?\"-specific style due to the `<a>` HTML tag */\n",
              "\n",
              "#sk-container-id-3 a.estimator_doc_link {\n",
              "  float: right;\n",
              "  font-size: 1rem;\n",
              "  line-height: 1em;\n",
              "  font-family: monospace;\n",
              "  background-color: var(--sklearn-color-background);\n",
              "  border-radius: 1rem;\n",
              "  height: 1rem;\n",
              "  width: 1rem;\n",
              "  text-decoration: none;\n",
              "  /* unfitted */\n",
              "  color: var(--sklearn-color-unfitted-level-1);\n",
              "  border: var(--sklearn-color-unfitted-level-1) 1pt solid;\n",
              "}\n",
              "\n",
              "#sk-container-id-3 a.estimator_doc_link.fitted {\n",
              "  /* fitted */\n",
              "  border: var(--sklearn-color-fitted-level-1) 1pt solid;\n",
              "  color: var(--sklearn-color-fitted-level-1);\n",
              "}\n",
              "\n",
              "/* On hover */\n",
              "#sk-container-id-3 a.estimator_doc_link:hover {\n",
              "  /* unfitted */\n",
              "  background-color: var(--sklearn-color-unfitted-level-3);\n",
              "  color: var(--sklearn-color-background);\n",
              "  text-decoration: none;\n",
              "}\n",
              "\n",
              "#sk-container-id-3 a.estimator_doc_link.fitted:hover {\n",
              "  /* fitted */\n",
              "  background-color: var(--sklearn-color-fitted-level-3);\n",
              "}\n",
              "</style><div id=\"sk-container-id-3\" class=\"sk-top-container\"><div class=\"sk-text-repr-fallback\"><pre>LogisticRegression(class_weight=&#x27;balanced&#x27;, random_state=42)</pre><b>In a Jupyter environment, please rerun this cell to show the HTML representation or trust the notebook. <br />On GitHub, the HTML representation is unable to render, please try loading this page with nbviewer.org.</b></div><div class=\"sk-container\" hidden><div class=\"sk-item\"><div class=\"sk-estimator fitted sk-toggleable\"><input class=\"sk-toggleable__control sk-hidden--visually\" id=\"sk-estimator-id-3\" type=\"checkbox\" checked><label for=\"sk-estimator-id-3\" class=\"sk-toggleable__label fitted sk-toggleable__label-arrow\"><div><div>LogisticRegression</div></div><div><a class=\"sk-estimator-doc-link fitted\" rel=\"noreferrer\" target=\"_blank\" href=\"https://scikit-learn.org/1.6/modules/generated/sklearn.linear_model.LogisticRegression.html\">?<span>Documentation for LogisticRegression</span></a><span class=\"sk-estimator-doc-link fitted\">i<span>Fitted</span></span></div></label><div class=\"sk-toggleable__content fitted\"><pre>LogisticRegression(class_weight=&#x27;balanced&#x27;, random_state=42)</pre></div> </div></div></div></div>"
            ]
          },
          "metadata": {},
          "execution_count": 74
        }
      ]
    },
    {
      "cell_type": "markdown",
      "source": [
        "## Evaluate the model"
      ],
      "metadata": {
        "id": "k0vhxIKqMmDF"
      }
    },
    {
      "cell_type": "code",
      "source": [
        "y_pred = model.predict(X_test_scaled)"
      ],
      "metadata": {
        "id": "BbDMn9kt3mO6"
      },
      "execution_count": 75,
      "outputs": []
    },
    {
      "cell_type": "code",
      "source": [
        "print(\"Accuracy :\", accuracy_score(y_test, y_pred))\n",
        "print(\"Precision:\", precision_score(y_test, y_pred))\n",
        "print(\"Recall   :\", recall_score(y_test, y_pred))\n",
        "print(\"\\nClassification Report:\\n\", classification_report(y_test, y_pred))"
      ],
      "metadata": {
        "colab": {
          "base_uri": "https://localhost:8080/"
        },
        "id": "2NdCgNlAM6d0",
        "outputId": "d91a7870-110c-4960-b789-253cf36893ee"
      },
      "execution_count": 76,
      "outputs": [
        {
          "output_type": "stream",
          "name": "stdout",
          "text": [
            "Accuracy : 0.8181818181818182\n",
            "Precision: 0.9285714285714286\n",
            "Recall   : 0.8666666666666667\n",
            "\n",
            "Classification Report:\n",
            "               precision    recall  f1-score   support\n",
            "\n",
            "           0       0.20      0.33      0.25         3\n",
            "           1       0.93      0.87      0.90        30\n",
            "\n",
            "    accuracy                           0.82        33\n",
            "   macro avg       0.56      0.60      0.57        33\n",
            "weighted avg       0.86      0.82      0.84        33\n",
            "\n"
          ]
        }
      ]
    },
    {
      "cell_type": "markdown",
      "source": [
        "## Visualizations"
      ],
      "metadata": {
        "id": "kBdFtNydNFCL"
      }
    },
    {
      "cell_type": "markdown",
      "source": [
        "High vs Low Contribution"
      ],
      "metadata": {
        "id": "jtSc7xtTNMTV"
      }
    },
    {
      "cell_type": "code",
      "source": [
        "plt.figure(figsize=(6,4))\n",
        "sns.countplot(x=\"plastic_contribution\", data=df)\n",
        "plt.xticks([0,1], [\"High Polluter (0)\",\"Low Polluter (1)\"])\n",
        "plt.xlabel(\"Plastic contribution\")\n",
        "plt.ylabel(\"Count\")\n",
        "plt.title(\"Number of rivers with high/low contribution\")\n",
        "plt.show()"
      ],
      "metadata": {
        "colab": {
          "base_uri": "https://localhost:8080/",
          "height": 0
        },
        "id": "K0wFaXWeNOJN",
        "outputId": "debc3b29-2909-4f8c-f718-069e7cbe14e2"
      },
      "execution_count": 77,
      "outputs": [
        {
          "output_type": "display_data",
          "data": {
            "text/plain": [
              "<Figure size 600x400 with 1 Axes>"
            ],
            "image/png": "[encoded data removed]"
          },
          "metadata": {}
        }
      ]
    },
    {
      "cell_type": "markdown",
      "source": [
        "Confusion matrix"
      ],
      "metadata": {
        "id": "UpDoUuszNQTm"
      }
    },
    {
      "cell_type": "code",
      "source": [
        "cm = confusion_matrix(y_test, y_pred)\n",
        "plt.figure(figsize=(6,4))\n",
        "sns.heatmap(cm, annot=True, fmt=\"d\", cmap=\"Blues\",\n",
        "            xticklabels=[\"High\",\"Low\"],\n",
        "            yticklabels=[\"High\",\"Low\"])\n",
        "plt.xlabel(\"Predicted Label\")\n",
        "plt.ylabel(\"Actual Label\")\n",
        "plt.title(\"Confusion Matrix\")\n",
        "plt.show()"
      ],
      "metadata": {
        "colab": {
          "base_uri": "https://localhost:8080/",
          "height": 0
        },
        "id": "Hbkx3SD3NWrz",
        "outputId": "e017c3d0-4b42-4f4f-dd8c-716d86fda012"
      },
      "execution_count": 78,
      "outputs": [
        {
          "output_type": "display_data",
          "data": {
            "text/plain": [
              "<Figure size 600x400 with 2 Axes>"
            ],
            "image/png": "[encoded data removed]"
          },
          "metadata": {}
        }
      ]
    },
    {
      "cell_type": "markdown",
      "source": [
        " ROC/AUC"
      ],
      "metadata": {
        "id": "WgRpaH_XNZ09"
      }
    },
    {
      "cell_type": "code",
      "source": [
        "y_score = model.predict_proba(X_test_scaled)[:,1]\n",
        "fpr, tpr, _ = roc_curve(y_test, y_score)\n",
        "roc_auc = auc(fpr, tpr)\n",
        "\n",
        "plt.figure(figsize=(6,4))\n",
        "plt.plot(fpr, tpr, label=f'AUC = {roc_auc:.2f}')\n",
        "plt.plot([0,1],[0,1],'k--')\n",
        "plt.xlabel('False Positive Rate'); plt.ylabel('True Positive Rate')\n",
        "plt.title('ROC Curve'); plt.legend(loc='lower right')\n",
        "plt.show()"
      ],
      "metadata": {
        "colab": {
          "base_uri": "https://localhost:8080/",
          "height": 0
        },
        "id": "1fHW4Xf53nKS",
        "outputId": "3bc88f1f-4583-4f85-a271-d25b74d3b2bb"
      },
      "execution_count": 79,
      "outputs": [
        {
          "output_type": "display_data",
          "data": {
            "text/plain": [
              "<Figure size 600x400 with 1 Axes>"
            ],
            "image/png": "[encoded data removed]"
          },
          "metadata": {}
        }
      ]
    },
    {
      "cell_type": "markdown",
      "source": [
        "## Extra Challenge – Top Predictors"
      ],
      "metadata": {
        "id": "bRkiWhpeB20G"
      }
    },
    {
      "cell_type": "markdown",
      "source": [
        "Logistic Regression coefficients"
      ],
      "metadata": {
        "id": "Zvo3gHcYP0vA"
      }
    },
    {
      "cell_type": "code",
      "source": [
        "coef = pd.Series(model.coef_[0], index=X.columns)\n",
        "top_coef = coef.abs().sort_values(ascending=False).head(10)\n",
        "print(\"Top 10 LogReg predictors:\\n\", top_coef)\n",
        "top_coef.plot.barh(title=\"LogReg Feature Importance\"); plt.show()"
      ],
      "metadata": {
        "colab": {
          "base_uri": "https://localhost:8080/",
          "height": 0
        },
        "id": "FIbGp67IP-CL",
        "outputId": "3525bb82-5666-49c8-8490-5f99fa190043"
      },
      "execution_count": 80,
      "outputs": [
        {
          "output_type": "stream",
          "name": "stdout",
          "text": [
            "Top 10 LogReg predictors:\n",
            " MPW (metric tons year -1)    3.249402\n",
            "Rainfall [mm year -1]        1.255689\n",
            "Factor (L/A) *P [-]          0.876547\n",
            "P[E] [%]                     0.543926\n",
            "Area [km2]                   0.486232\n",
            "Factor L/A [-]               0.440240\n",
            "Coast length [km]            0.300914\n",
            "Ratio Me/MPW                 0.107177\n",
            "dtype: float64\n"
          ]
        },
        {
          "output_type": "display_data",
          "data": {
            "text/plain": [
              "<Figure size 640x480 with 1 Axes>"
            ],
            "image/png": "[encoded data removed]"
          },
          "metadata": {}
        }
      ]
    },
    {
      "cell_type": "markdown",
      "source": [
        "Random Forest importances"
      ],
      "metadata": {
        "id": "rxMin3FBQODr"
      }
    },
    {
      "cell_type": "code",
      "source": [
        "rf = RandomForestClassifier(n_estimators=200, class_weight='balanced', random_state=42)\n",
        "rf.fit(X_train_scaled, y_train)\n",
        "imp = pd.Series(rf.feature_importances_, index=X.columns)\n",
        "top_imp = imp.sort_values(ascending=False).head(10)\n",
        "print(\"Top 10 RF predictors:\\n\", top_imp)\n",
        "top_imp.plot.barh(title=\"RF Feature Importance\"); plt.show()"
      ],
      "metadata": {
        "colab": {
          "base_uri": "https://localhost:8080/",
          "height": 0
        },
        "id": "XNHRcX-M3qba",
        "outputId": "601b253c-dbc5-48c0-ee9b-717135d22329"
      },
      "execution_count": 81,
      "outputs": [
        {
          "output_type": "stream",
          "name": "stdout",
          "text": [
            "Top 10 RF predictors:\n",
            " MPW (metric tons year -1)    0.367404\n",
            "Area [km2]                   0.123950\n",
            "Coast length [km]            0.120711\n",
            "Ratio Me/MPW                 0.115982\n",
            "P[E] [%]                     0.102601\n",
            "Rainfall [mm year -1]        0.094914\n",
            "Factor L/A [-]               0.041540\n",
            "Factor (L/A) *P [-]          0.032898\n",
            "dtype: float64\n"
          ]
        },
        {
          "output_type": "display_data",
          "data": {
            "text/plain": [
              "<Figure size 640x480 with 1 Axes>"
            ],
            "image/png": "[encoded data removed]"
          },
          "metadata": {}
        }
      ]
    },
    {
      "cell_type": "markdown",
      "source": [
        "# **Task 2**\n",
        "\n",
        "- Unsupervised Learning"
      ],
      "metadata": {
        "id": "pbxUSVPWUZGG"
      }
    },
    {
      "cell_type": "code",
      "source": [
        "df.head()"
      ],
      "metadata": {
        "colab": {
          "base_uri": "https://localhost:8080/",
          "height": 241
        },
        "id": "LrQFq6Oyul34",
        "outputId": "c8186f16-1e7b-4433-887d-ed28ec356d8b"
      },
      "execution_count": 82,
      "outputs": [
        {
          "output_type": "execute_result",
          "data": {
            "text/plain": [
              "  Country or Administrative area  Area [km2]  Coast length [km]  \\\n",
              "0                        Albania     28486.0              362.0   \n",
              "1                        Algeria   2316559.0              998.0   \n",
              "2                         Angola   1247357.0             1600.0   \n",
              "3            Antigua and Barbuda       443.0              153.0   \n",
              "4                      Argentina   2779705.0             4989.0   \n",
              "\n",
              "   Rainfall [mm year -1]  Factor L/A [-]  Factor (L/A) *P [-]  P[E] [%]  \\\n",
              "0                 1117.0          0.0100                 14.0      1.56   \n",
              "1                   80.0          0.0004                  0.0      0.09   \n",
              "2                 1025.0          0.0010                  1.0      0.09   \n",
              "3                  996.0          0.3000                344.0      3.08   \n",
              "4                  567.0          0.0020                  1.0      0.26   \n",
              "\n",
              "   MPW (metric tons year -1)  M[E] (metric tons year -1)  Ratio Me/MPW  \\\n",
              "0                    69833.0                      1565.0          2.24   \n",
              "1                   764578.0                      5774.0          0.76   \n",
              "2                   236946.0                       860.0          0.36   \n",
              "3                      627.0                         2.0          0.29   \n",
              "4                   465808.0                      4137.0          0.89   \n",
              "\n",
              "   plastic_contribution  \n",
              "0                     1  \n",
              "1                     1  \n",
              "2                     1  \n",
              "3                     1  \n",
              "4                     1  "
            ],
            "text/html": [
              "\n",
              "  <div id=\"df-a668c069-1f34-42b1-90f4-83326d446669\" class=\"colab-df-container\">\n",
              "    <div>\n",
              "<style scoped>\n",
              "    .dataframe tbody tr th:only-of-type {\n",
              "        vertical-align: middle;\n",
              "    }\n",
              "\n",
              "    .dataframe tbody tr th {\n",
              "        vertical-align: top;\n",
              "    }\n",
              "\n",
              "    .dataframe thead th {\n",
              "        text-align: right;\n",
              "    }\n",
              "</style>\n",
              "<table border=\"1\" class=\"dataframe\">\n",
              "  <thead>\n",
              "    <tr style=\"text-align: right;\">\n",
              "      <th></th>\n",
              "      <th>Country or Administrative area</th>\n",
              "      <th>Area [km2]</th>\n",
              "      <th>Coast length [km]</th>\n",
              "      <th>Rainfall [mm year -1]</th>\n",
              "      <th>Factor L/A [-]</th>\n",
              "      <th>Factor (L/A) *P [-]</th>\n",
              "      <th>P[E] [%]</th>\n",
              "      <th>MPW (metric tons year -1)</th>\n",
              "      <th>M[E] (metric tons year -1)</th>\n",
              "      <th>Ratio Me/MPW</th>\n",
              "      <th>plastic_contribution</th>\n",
              "    </tr>\n",
              "  </thead>\n",
              "  <tbody>\n",
              "    <tr>\n",
              "      <th>0</th>\n",
              "      <td>Albania</td>\n",
              "      <td>28486.0</td>\n",
              "      <td>362.0</td>\n",
              "      <td>1117.0</td>\n",
              "      <td>0.0100</td>\n",
              "      <td>14.0</td>\n",
              "      <td>1.56</td>\n",
              "      <td>69833.0</td>\n",
              "      <td>1565.0</td>\n",
              "      <td>2.24</td>\n",
              "      <td>1</td>\n",
              "    </tr>\n",
              "    <tr>\n",
              "      <th>1</th>\n",
              "      <td>Algeria</td>\n",
              "      <td>2316559.0</td>\n",
              "      <td>998.0</td>\n",
              "      <td>80.0</td>\n",
              "      <td>0.0004</td>\n",
              "      <td>0.0</td>\n",
              "      <td>0.09</td>\n",
              "      <td>764578.0</td>\n",
              "      <td>5774.0</td>\n",
              "      <td>0.76</td>\n",
              "      <td>1</td>\n",
              "    </tr>\n",
              "    <tr>\n",
              "      <th>2</th>\n",
              "      <td>Angola</td>\n",
              "      <td>1247357.0</td>\n",
              "      <td>1600.0</td>\n",
              "      <td>1025.0</td>\n",
              "      <td>0.0010</td>\n",
              "      <td>1.0</td>\n",
              "      <td>0.09</td>\n",
              "      <td>236946.0</td>\n",
              "      <td>860.0</td>\n",
              "      <td>0.36</td>\n",
              "      <td>1</td>\n",
              "    </tr>\n",
              "    <tr>\n",
              "      <th>3</th>\n",
              "      <td>Antigua and Barbuda</td>\n",
              "      <td>443.0</td>\n",
              "      <td>153.0</td>\n",
              "      <td>996.0</td>\n",
              "      <td>0.3000</td>\n",
              "      <td>344.0</td>\n",
              "      <td>3.08</td>\n",
              "      <td>627.0</td>\n",
              "      <td>2.0</td>\n",
              "      <td>0.29</td>\n",
              "      <td>1</td>\n",
              "    </tr>\n",
              "    <tr>\n",
              "      <th>4</th>\n",
              "      <td>Argentina</td>\n",
              "      <td>2779705.0</td>\n",
              "      <td>4989.0</td>\n",
              "      <td>567.0</td>\n",
              "      <td>0.0020</td>\n",
              "      <td>1.0</td>\n",
              "      <td>0.26</td>\n",
              "      <td>465808.0</td>\n",
              "      <td>4137.0</td>\n",
              "      <td>0.89</td>\n",
              "      <td>1</td>\n",
              "    </tr>\n",
              "  </tbody>\n",
              "</table>\n",
              "</div>\n",
              "    <div class=\"colab-df-buttons\">\n",
              "\n",
              "  <div class=\"colab-df-container\">\n",
              "    <button class=\"colab-df-convert\" onclick=\"convertToInteractive('df-a668c069-1f34-42b1-90f4-83326d446669')\"\n",
              "            title=\"Convert this dataframe to an interactive table.\"\n",
              "            style=\"display:none;\">\n",
              "\n",
              "  <svg xmlns=\"http://www.w3.org/2000/svg\" height=\"24px\" viewBox=\"0 -960 960 960\">\n",
              "    <path d=\"M120-120v-720h720v720H120Zm60-500h600v-160H180v160Zm220 220h160v-160H400v160Zm0 220h160v-160H400v160ZM180-400h160v-160H180v160Zm440 0h160v-160H620v160ZM180-180h160v-160H180v160Zm440 0h160v-160H620v160Z\"/>\n",
              "  </svg>\n",
              "    </button>\n",
              "\n",
              "  <style>\n",
              "    .colab-df-container {\n",
              "      display:flex;\n",
              "      gap: 12px;\n",
              "    }\n",
              "\n",
              "    .colab-df-convert {\n",
              "      background-color: #E8F0FE;\n",
              "      border: none;\n",
              "      border-radius: 50%;\n",
              "      cursor: pointer;\n",
              "      display: none;\n",
              "      fill: #1967D2;\n",
              "      height: 32px;\n",
              "      padding: 0 0 0 0;\n",
              "      width: 32px;\n",
              "    }\n",
              "\n",
              "    .colab-df-convert:hover {\n",
              "      background-color: #E2EBFA;\n",
              "      box-shadow: 0px 1px 2px rgba(60, 64, 67, 0.3), 0px 1px 3px 1px rgba(60, 64, 67, 0.15);\n",
              "      fill: #174EA6;\n",
              "    }\n",
              "\n",
              "    .colab-df-buttons div {\n",
              "      margin-bottom: 4px;\n",
              "    }\n",
              "\n",
              "    [theme=dark] .colab-df-convert {\n",
              "      background-color: #3B4455;\n",
              "      fill: #D2E3FC;\n",
              "    }\n",
              "\n",
              "    [theme=dark] .colab-df-convert:hover {\n",
              "      background-color: #434B5C;\n",
              "      box-shadow: 0px 1px 3px 1px rgba(0, 0, 0, 0.15);\n",
              "      filter: drop-shadow(0px 1px 2px rgba(0, 0, 0, 0.3));\n",
              "      fill: #FFFFFF;\n",
              "    }\n",
              "  </style>\n",
              "\n",
              "    <script>\n",
              "      const buttonEl =\n",
              "        document.querySelector('#df-a668c069-1f34-42b1-90f4-83326d446669 button.colab-df-convert');\n",
              "      buttonEl.style.display =\n",
              "        google.colab.kernel.accessAllowed ? 'block' : 'none';\n",
              "\n",
              "      async function convertToInteractive(key) {\n",
              "        const element = document.querySelector('#df-a668c069-1f34-42b1-90f4-83326d446669');\n",
              "        const dataTable =\n",
              "          await google.colab.kernel.invokeFunction('convertToInteractive',\n",
              "                                                    [key], {});\n",
              "        if (!dataTable) return;\n",
              "\n",
              "        const docLinkHtml = 'Like what you see? Visit the ' +\n",
              "          '<a target=\"_blank\" href=https://colab.research.google.com/notebooks/data_table.ipynb>data table notebook</a>'\n",
              "          + ' to learn more about interactive tables.';\n",
              "        element.innerHTML = '';\n",
              "        dataTable['output_type'] = 'display_data';\n",
              "        await google.colab.output.renderOutput(dataTable, element);\n",
              "        const docLink = document.createElement('div');\n",
              "        docLink.innerHTML = docLinkHtml;\n",
              "        element.appendChild(docLink);\n",
              "      }\n",
              "    </script>\n",
              "  </div>\n",
              "\n",
              "\n",
              "    <div id=\"df-e4824c2c-1261-4024-a927-eb1fc98573d4\">\n",
              "      <button class=\"colab-df-quickchart\" onclick=\"quickchart('df-e4824c2c-1261-4024-a927-eb1fc98573d4')\"\n",
              "                title=\"Suggest charts\"\n",
              "                style=\"display:none;\">\n",
              "\n",
              "<svg xmlns=\"http://www.w3.org/2000/svg\" height=\"24px\"viewBox=\"0 0 24 24\"\n",
              "     width=\"24px\">\n",
              "    <g>\n",
              "        <path d=\"M19 3H5c-1.1 0-2 .9-2 2v14c0 1.1.9 2 2 2h14c1.1 0 2-.9 2-2V5c0-1.1-.9-2-2-2zM9 17H7v-7h2v7zm4 0h-2V7h2v10zm4 0h-2v-4h2v4z\"/>\n",
              "    </g>\n",
              "</svg>\n",
              "      </button>\n",
              "\n",
              "<style>\n",
              "  .colab-df-quickchart {\n",
              "      --bg-color: #E8F0FE;\n",
              "      --fill-color: #1967D2;\n",
              "      --hover-bg-color: #E2EBFA;\n",
              "      --hover-fill-color: #174EA6;\n",
              "      --disabled-fill-color: #AAA;\n",
              "      --disabled-bg-color: #DDD;\n",
              "  }\n",
              "\n",
              "  [theme=dark] .colab-df-quickchart {\n",
              "      --bg-color: #3B4455;\n",
              "      --fill-color: #D2E3FC;\n",
              "      --hover-bg-color: #434B5C;\n",
              "      --hover-fill-color: #FFFFFF;\n",
              "      --disabled-bg-color: #3B4455;\n",
              "      --disabled-fill-color: #666;\n",
              "  }\n",
              "\n",
              "  .colab-df-quickchart {\n",
              "    background-color: var(--bg-color);\n",
              "    border: none;\n",
              "    border-radius: 50%;\n",
              "    cursor: pointer;\n",
              "    display: none;\n",
              "    fill: var(--fill-color);\n",
              "    height: 32px;\n",
              "    padding: 0;\n",
              "    width: 32px;\n",
              "  }\n",
              "\n",
              "  .colab-df-quickchart:hover {\n",
              "    background-color: var(--hover-bg-color);\n",
              "    box-shadow: 0 1px 2px rgba(60, 64, 67, 0.3), 0 1px 3px 1px rgba(60, 64, 67, 0.15);\n",
              "    fill: var(--button-hover-fill-color);\n",
              "  }\n",
              "\n",
              "  .colab-df-quickchart-complete:disabled,\n",
              "  .colab-df-quickchart-complete:disabled:hover {\n",
              "    background-color: var(--disabled-bg-color);\n",
              "    fill: var(--disabled-fill-color);\n",
              "    box-shadow: none;\n",
              "  }\n",
              "\n",
              "  .colab-df-spinner {\n",
              "    border: 2px solid var(--fill-color);\n",
              "    border-color: transparent;\n",
              "    border-bottom-color: var(--fill-color);\n",
              "    animation:\n",
              "      spin 1s steps(1) infinite;\n",
              "  }\n",
              "\n",
              "  @keyframes spin {\n",
              "    0% {\n",
              "      border-color: transparent;\n",
              "      border-bottom-color: var(--fill-color);\n",
              "      border-left-color: var(--fill-color);\n",
              "    }\n",
              "    20% {\n",
              "      border-color: transparent;\n",
              "      border-left-color: var(--fill-color);\n",
              "      border-top-color: var(--fill-color);\n",
              "    }\n",
              "    30% {\n",
              "      border-color: transparent;\n",
              "      border-left-color: var(--fill-color);\n",
              "      border-top-color: var(--fill-color);\n",
              "      border-right-color: var(--fill-color);\n",
              "    }\n",
              "    40% {\n",
              "      border-color: transparent;\n",
              "      border-right-color: var(--fill-color);\n",
              "      border-top-color: var(--fill-color);\n",
              "    }\n",
              "    60% {\n",
              "      border-color: transparent;\n",
              "      border-right-color: var(--fill-color);\n",
              "    }\n",
              "    80% {\n",
              "      border-color: transparent;\n",
              "      border-right-color: var(--fill-color);\n",
              "      border-bottom-color: var(--fill-color);\n",
              "    }\n",
              "    90% {\n",
              "      border-color: transparent;\n",
              "      border-bottom-color: var(--fill-color);\n",
              "    }\n",
              "  }\n",
              "</style>\n",
              "\n",
              "      <script>\n",
              "        async function quickchart(key) {\n",
              "          const quickchartButtonEl =\n",
              "            document.querySelector('#' + key + ' button');\n",
              "          quickchartButtonEl.disabled = true;  // To prevent multiple clicks.\n",
              "          quickchartButtonEl.classList.add('colab-df-spinner');\n",
              "          try {\n",
              "            const charts = await google.colab.kernel.invokeFunction(\n",
              "                'suggestCharts', [key], {});\n",
              "          } catch (error) {\n",
              "            console.error('Error during call to suggestCharts:', error);\n",
              "          }\n",
              "          quickchartButtonEl.classList.remove('colab-df-spinner');\n",
              "          quickchartButtonEl.classList.add('colab-df-quickchart-complete');\n",
              "        }\n",
              "        (() => {\n",
              "          let quickchartButtonEl =\n",
              "            document.querySelector('#df-e4824c2c-1261-4024-a927-eb1fc98573d4 button');\n",
              "          quickchartButtonEl.style.display =\n",
              "            google.colab.kernel.accessAllowed ? 'block' : 'none';\n",
              "        })();\n",
              "      </script>\n",
              "    </div>\n",
              "\n",
              "    </div>\n",
              "  </div>\n"
            ],
            "application/vnd.google.colaboratory.intrinsic+json": {
              "type": "dataframe",
              "variable_name": "df",
              "summary": "{\n  \"name\": \"df\",\n  \"rows\": 165,\n  \"fields\": [\n    {\n      \"column\": \"Country or Administrative area\",\n      \"properties\": {\n        \"dtype\": \"string\",\n        \"num_unique_values\": 163,\n        \"samples\": [\n          \"Somalia \",\n          \"Puerto Rico \",\n          \"Sint Maarten \"\n        ],\n        \"semantic_type\": \"\",\n        \"description\": \"\"\n      }\n    },\n    {\n      \"column\": \"Area [km2]\",\n      \"properties\": {\n        \"dtype\": \"number\",\n        \"std\": 2042508.8416122086,\n        \"min\": 8.0,\n        \"max\": 16945398.0,\n        \"num_unique_values\": 165,\n        \"samples\": [\n          28724.0,\n          91978.0,\n          594.0\n        ],\n        \"semantic_type\": \"\",\n        \"description\": \"\"\n      }\n    },\n    {\n      \"column\": \"Coast length [km]\",\n      \"properties\": {\n        \"dtype\": \"number\",\n        \"std\": 17060.82294295645,\n        \"min\": 4.0,\n        \"max\": 202080.0,\n        \"num_unique_values\": 147,\n        \"samples\": [\n          2798.0,\n          13676.0,\n          2782.0\n        ],\n        \"semantic_type\": \"\",\n        \"description\": \"\"\n      }\n    },\n    {\n      \"column\": \"Rainfall [mm year -1]\",\n      \"properties\": {\n        \"dtype\": \"number\",\n        \"std\": 831.1440752354342,\n        \"min\": 20.0,\n        \"max\": 3821.0,\n        \"num_unique_values\": 162,\n        \"samples\": [\n          1772.0,\n          2982.0,\n          735.0\n        ],\n        \"semantic_type\": \"\",\n        \"description\": \"\"\n      }\n    },\n    {\n      \"column\": \"Factor L/A [-]\",\n      \"properties\": {\n        \"dtype\": \"number\",\n        \"std\": 17.87609434156737,\n        \"min\": 0.0001,\n        \"max\": 205.0,\n        \"num_unique_values\": 38,\n        \"samples\": [\n          0.0025,\n          0.10250000000000001,\n          0.002\n        ],\n        \"semantic_type\": \"\",\n        \"description\": \"\"\n      }\n    },\n    {\n      \"column\": \"Factor (L/A) *P [-]\",\n      \"properties\": {\n        \"dtype\": \"number\",\n        \"std\": 944.0276730319462,\n        \"min\": 0.0,\n        \"max\": 9129.0,\n        \"num_unique_values\": 79,\n        \"samples\": [\n          3.0,\n          14.0,\n          37.0\n        ],\n        \"semantic_type\": \"\",\n        \"description\": \"\"\n      }\n    },\n    {\n      \"column\": \"P[E] [%]\",\n      \"properties\": {\n        \"dtype\": \"number\",\n        \"std\": 2.6222106892359993,\n        \"min\": 0.0,\n        \"max\": 13.74,\n        \"num_unique_values\": 111,\n        \"samples\": [\n          0.11,\n          3.54,\n          0.18\n        ],\n        \"semantic_type\": \"\",\n        \"description\": \"\"\n      }\n    },\n    {\n      \"column\": \"MPW (metric tons year -1)\",\n      \"properties\": {\n        \"dtype\": \"number\",\n        \"std\": 1460412.0169547775,\n        \"min\": 3.0,\n        \"max\": 12994100.0,\n        \"num_unique_values\": 163,\n        \"samples\": [\n          42.0,\n          1532.0,\n          1719.0\n        ],\n        \"semantic_type\": \"\",\n        \"description\": \"\"\n      }\n    },\n    {\n      \"column\": \"M[E] (metric tons year -1)\",\n      \"properties\": {\n        \"dtype\": \"number\",\n        \"std\": 30770.54757384582,\n        \"min\": 0.0,\n        \"max\": 356371.0,\n        \"num_unique_values\": 126,\n        \"samples\": [\n          22.0,\n          10671.0,\n          14329.0\n        ],\n        \"semantic_type\": \"\",\n        \"description\": \"\"\n      }\n    },\n    {\n      \"column\": \"Ratio Me/MPW\",\n      \"properties\": {\n        \"dtype\": \"number\",\n        \"std\": 3.3511149262709745,\n        \"min\": 0.0,\n        \"max\": 19.36,\n        \"num_unique_values\": 120,\n        \"samples\": [\n          1.2,\n          0.8,\n          0.89\n        ],\n        \"semantic_type\": \"\",\n        \"description\": \"\"\n      }\n    },\n    {\n      \"column\": \"plastic_contribution\",\n      \"properties\": {\n        \"dtype\": \"number\",\n        \"std\": 0,\n        \"min\": 0,\n        \"max\": 1,\n        \"num_unique_values\": 2,\n        \"samples\": [\n          0,\n          1\n        ],\n        \"semantic_type\": \"\",\n        \"description\": \"\"\n      }\n    }\n  ]\n}"
            }
          },
          "metadata": {},
          "execution_count": 82
        }
      ]
    },
    {
      "cell_type": "markdown",
      "source": [
        "- Data prep\n"
      ],
      "metadata": {
        "id": "F4uWRzciA5vr"
      }
    },
    {
      "cell_type": "code",
      "source": [
        "df2 = df.dropna().copy()\n",
        "X2 = df2.select_dtypes(include=\"number\").drop(columns=[\"plastic_contribution\"])\n",
        "print(df2.isna().sum())"
      ],
      "metadata": {
        "colab": {
          "base_uri": "https://localhost:8080/"
        },
        "id": "7dUevTffAtiP",
        "outputId": "76c97b6f-a7f2-4778-d5ba-63eed42771f6"
      },
      "execution_count": 83,
      "outputs": [
        {
          "output_type": "stream",
          "name": "stdout",
          "text": [
            "Country or Administrative area    0\n",
            "Area [km2]                        0\n",
            "Coast length [km]                 0\n",
            "Rainfall [mm year -1]             0\n",
            "Factor L/A [-]                    0\n",
            "Factor (L/A) *P [-]               0\n",
            "P[E] [%]                          0\n",
            "MPW (metric tons year -1)         0\n",
            "M[E] (metric tons year -1)        0\n",
            "Ratio Me/MPW                      0\n",
            "plastic_contribution              0\n",
            "dtype: int64\n"
          ]
        }
      ]
    },
    {
      "cell_type": "code",
      "source": [
        "from sklearn.preprocessing import StandardScaler\n",
        "\n",
        "scaler2 = StandardScaler()\n",
        "X2_scaled = scaler2.fit_transform(X2)"
      ],
      "metadata": {
        "id": "7S57k3okE9Kf"
      },
      "execution_count": 84,
      "outputs": []
    },
    {
      "cell_type": "markdown",
      "source": [
        "- Fit K-Means (k=2)"
      ],
      "metadata": {
        "id": "eet-LLCxdMGL"
      }
    },
    {
      "cell_type": "code",
      "source": [
        "from sklearn.cluster import KMeans\n",
        "\n",
        "kmeans = KMeans(n_clusters=2, random_state=42)\n",
        "df2[\"cluster\"] = kmeans.fit_predict(X2_scaled)"
      ],
      "metadata": {
        "id": "8YwSwkDddFV6"
      },
      "execution_count": 85,
      "outputs": []
    },
    {
      "cell_type": "code",
      "source": [
        "from sklearn.metrics import accuracy_score, classification_report\n",
        "\n",
        "y_true = df2[\"plastic_contribution\"]\n",
        "y_pred = df2[\"cluster\"]\n",
        "\n",
        "print(\"\\nAccuracy:\", accuracy_score(y_true, y_pred))\n",
        "print(\"\\nClassification Report:\\n\", classification_report(y_true, y_pred, digits=3))"
      ],
      "metadata": {
        "colab": {
          "base_uri": "https://localhost:8080/"
        },
        "id": "J0l0Zuarhtwq",
        "outputId": "2bd3c870-efd0-4e44-c99a-39ac71aa34cf"
      },
      "execution_count": 86,
      "outputs": [
        {
          "output_type": "stream",
          "name": "stdout",
          "text": [
            "\n",
            "Accuracy: 0.7116564417177914\n",
            "\n",
            "Classification Report:\n",
            "               precision    recall  f1-score   support\n",
            "\n",
            "           0      0.122     0.312     0.175        16\n",
            "           1      0.910     0.755     0.825       147\n",
            "\n",
            "    accuracy                          0.712       163\n",
            "   macro avg      0.516     0.534     0.500       163\n",
            "weighted avg      0.832     0.712     0.761       163\n",
            "\n"
          ]
        }
      ]
    },
    {
      "cell_type": "markdown",
      "source": [
        "Visualize clusters with PCA"
      ],
      "metadata": {
        "id": "2zNj282sfgmk"
      }
    },
    {
      "cell_type": "markdown",
      "source": [
        "- Cluster 0: high-polluter\n",
        "\n",
        "- Cluster 1: low-polluter\n"
      ],
      "metadata": {
        "id": "MTCjMr0Wfqv_"
      }
    },
    {
      "cell_type": "code",
      "source": [
        "# Quick Decision Tree to rank feature importances\n",
        "\n",
        "from sklearn.tree import DecisionTreeClassifier\n",
        "\n",
        "dt = DecisionTreeClassifier(max_depth=3, random_state=42)\n",
        "dt.fit(X2_scaled, df2[\"cluster\"])\n",
        "\n",
        "importances = pd.Series(dt.feature_importances_, index=X2.columns)\n",
        "print(\"\\nTop features driving the clustering:\")\n",
        "print(importances.sort_values(ascending=False).head())"
      ],
      "metadata": {
        "colab": {
          "base_uri": "https://localhost:8080/"
        },
        "id": "Y5aj8vh2h3iQ",
        "outputId": "fe3abd9c-b6d4-43ec-93bd-6122a6e6a128"
      },
      "execution_count": 87,
      "outputs": [
        {
          "output_type": "stream",
          "name": "stdout",
          "text": [
            "\n",
            "Top features driving the clustering:\n",
            "P[E] [%]               0.822094\n",
            "Ratio Me/MPW           0.099804\n",
            "Factor (L/A) *P [-]    0.078102\n",
            "Area [km2]             0.000000\n",
            "Coast length [km]      0.000000\n",
            "dtype: float64\n"
          ]
        }
      ]
    },
    {
      "cell_type": "code",
      "source": [
        "from sklearn.decomposition import PCA\n",
        "\n",
        "# Run PCA on scaled features\n",
        "pca2 = PCA(n_components=2, random_state=42)\n",
        "pcs2 = pca2.fit_transform(X2_scaled)"
      ],
      "metadata": {
        "id": "4zIgvzH7fp5m"
      },
      "execution_count": 88,
      "outputs": []
    },
    {
      "cell_type": "code",
      "source": [
        "import matplotlib.pyplot as plt\n",
        "\n",
        "plt.figure(figsize=(8,6))\n",
        "plt.scatter(\n",
        "    pcs2[:,0], pcs2[:,1],\n",
        "    c=df2[\"cluster\"],\n",
        "    cmap=\"viridis\",\n",
        "    alpha=0.5\n",
        ")\n",
        "plt.title(\"K-Means Clusters (PCA projection)\")\n",
        "plt.xlabel(\"PC 1\")\n",
        "plt.ylabel(\"PC 2\")\n",
        "plt.colorbar(label=\"Cluster\")\n",
        "plt.grid(True)\n",
        "plt.show()"
      ],
      "metadata": {
        "colab": {
          "base_uri": "https://localhost:8080/",
          "height": 564
        },
        "id": "CskUQzD7lMAz",
        "outputId": "419c6880-6827-4623-e06d-0faf12957e21"
      },
      "execution_count": 89,
      "outputs": [
        {
          "output_type": "display_data",
          "data": {
            "text/plain": [
              "<Figure size 800x600 with 2 Axes>"
            ],
            "image/png": "[encoded data removed]"
          },
          "metadata": {}
        }
      ]
    },
    {
      "cell_type": "code",
      "source": [
        "import plotly.express as px\n",
        "\n",
        "fig = px.scatter(\n",
        "    x=pcs2[:,0],\n",
        "    y=pcs2[:,1],\n",
        "    color=df2[\"cluster\"].astype(str),\n",
        "    hover_name=df2[\"Country or Administrative area\"],\n",
        "    title=\"K-Means Clusters (PCA) — hover for country\",\n",
        "    labels={\"x\":\"PC 1\",\"y\":\"PC 2\",\"color\":\"Cluster\"}\n",
        ")\n",
        "fig.update_traces(marker=dict(size=6, opacity=0.7))\n",
        "fig.show()"
      ],
      "metadata": {
        "colab": {
          "base_uri": "https://localhost:8080/",
          "height": 542
        },
        "id": "691qN0WwoEp7",
        "outputId": "b4f8e0b8-25e4-440a-ff6a-d2a1e1c17109"
      },
      "execution_count": 90,
      "outputs": [
        {
          "output_type": "display_data",
          "data": {
            "text/html": [
              "<html>\n",
              "<head><meta charset=\"utf-8\" /></head>\n",
              "<body>\n",
              "    <div>            <script src=\"https://cdnjs.cloudflare.com/ajax/libs/mathjax/2.7.5/MathJax.js?config=TeX-AMS-MML_SVG\"></script><script type=\"text/javascript\">if (window.MathJax && window.MathJax.Hub && window.MathJax.Hub.Config) {window.MathJax.Hub.Config({SVG: {font: \"STIX-Web\"}});}</script>                <script type=\"text/javascript\">window.PlotlyConfig = {MathJaxConfig: 'local'};</script>\n",
              "        <script charset=\"utf-8\" src=\"https://cdn.plot.ly/plotly-2.35.2.min.js\"></script>                <div id=\"68b76b98-4b61-4eb1-8b27-ebf4cf39d667\" class=\"plotly-graph-div\" style=\"height:525px; width:100%;\"></div>            <script type=\"text/javascript\">                                    window.PLOTLYENV=window.PLOTLYENV || {};                                    if (document.getElementById(\"68b76b98-4b61-4eb1-8b27-ebf4cf39d667\")) {                    Plotly.newPlot(                        \"68b76b98-4b61-4eb1-8b27-ebf4cf39d667\",                        [{\"hovertemplate\":\"\\u003cb\\u003e%{hovertext}\\u003c\\u002fb\\u003e\\u003cbr\\u003e\\u003cbr\\u003eCluster=1\\u003cbr\\u003ePC 1=%{x}\\u003cbr\\u003ePC 2=%{y}\\u003cextra\\u003e\\u003c\\u002fextra\\u003e\",\"hovertext\":[\"Albania\",\"Algeria\",\"Angola\",\"Antigua and Barbuda\",\"Argentina\",\"Australia\",\"Bahamas\",\"Bahrain\",\"Belgium\",\"Benin\",\"Bosnia and Herzegovina\",\"Brazil\",\"Bulgaria\",\"Burkina Faso\",\"Myanmar\",\"Cambodia\",\"Cameroon\",\"Canada\",\"Cape Verde\",\"Chile\",\"China\",\"Colombia \",\"Comoros \",\"Congo\",\"Congo (Democratic Republic of the)\",\"Côte d'Ivoire \",\"Croatia \",\"Cyprus \",\"Denmark \",\"Djibouti \",\"Dominican Republic \",\"Ecuador\",\"Egypt\",\"Eritrea\",\"Estonia\",\"Finland \",\"France\",\"Gambia \",\"Georgia \",\"Germany \",\"Ghana\",\"Greece \",\"Guatemala \",\"Guinea \",\"Guinea-Bissau \",\"Guyana\",\"Haiti\",\"Honduras \",\"Iceland \",\"India \",\"Iran\",\"Iraq \",\"Ireland \",\"Israel \",\"Italy \",\"Jordan\",\"Kazakhstan \",\"Kenya \",\"Kiribati \",\"Kuwait \",\"Latvia \",\"Lebanon \",\"Lesotho \",\"Libya \",\"Lithuania \",\"Madagascar \",\"Maldives \",\"Malta\",\"Marshall Islands \",\"Mauritania \",\"Mauritius \",\"Mexico\",\"Monaco \",\"Montenegro \",\"Morocco\",\"Mozambique\",\"Namibia \",\"Netherlands \",\"Nicaragua \",\"Nigeria \",\"Norway \",\"Oman \",\"Pakistan \",\"Peru\",\"Poland \",\"Portugal \",\"Qatar \",\"Reunion \",\"Romania \",\"Russia\",\"Saint Kitts and Nevis \",\"Saint Martin\",\"Samoa\",\"Saudi Arabia\",\"Senegal \",\"Seychelles \",\"Sint Maarten \",\"Slovakia \",\"Slovenia\",\"Somalia \",\"South Africa \",\"South Korea \",\"Spain\",\"Sudan \",\"Sweden \",\"Syria \",\"Tanzania \",\"Thailand \",\"Togo\",\"Tonga\",\"Tunisia\",\"Turkey \",\"Ukraine\",\"United Arab Emirates \",\"United Kingdom \",\"United States \",\"Uruguay\",\"Venezuela \",\"Vietnam \",\"Western Sahara \",\"Yemen\",\"Zimbabwe\"],\"legendgroup\":\"1\",\"marker\":{\"color\":\"#636efa\",\"symbol\":\"circle\",\"opacity\":0.7,\"size\":6},\"mode\":\"markers\",\"name\":\"1\",\"orientation\":\"v\",\"showlegend\":true,\"x\":[-0.08615938187934977,-1.5707706521171665,-0.9056885658027967,-0.026543686182541094,-1.27651109729245,-2.0649781357284565,-0.1909678195773774,-1.393682145494093,-0.5517029569700247,-0.6075271805205745,-0.6132954820999384,-1.2893823273257905,-1.0325008279793122,-1.0337788633306029,-0.14445365945912148,-0.17540422337368922,-0.14049337586131155,-3.19124777992767,-1.3082842340355785,-0.26950851136331017,-2.7632552023288524,0.23240444181291733,-0.09689213582661402,-0.2988065300400936,-1.5820123240531854,-0.45585022899876854,-0.6640514532684549,-0.9579316716462003,-0.1809124188393139,-1.2895917001291943,0.4401739683548956,0.017033298250733363,-1.6158994913748732,-1.2133918708912368,-0.6020954839805953,-1.1250490926834542,-0.7630876363353154,-0.6338634868734989,-0.3699518006389097,-0.9253021194818123,-0.568730214005527,-0.19422237606151083,0.6600028214210533,-0.12241950195822347,0.23470907884627643,0.5976118204473738,0.5403032118559792,0.15258180328880944,-0.8233995969772047,-1.4160117017948102,-1.475776718136444,-1.3920639090257956,0.5892475014800823,-1.116009644744229,-0.6797143850245552,-1.379556898524315,-1.9724527724838457,-1.1117775385008895,-0.24966353675525962,-1.293134225865254,-0.7933926499571373,-0.44857867036235066,-0.9802054451998727,-1.5394819058551783,-0.8957572823639396,0.11601892433808102,-1.2413314220847245,-1.0490769278839809,-0.43286072443290685,-1.4045430356209705,-0.40709330380178865,-1.0566665477815935,-0.8188081626483927,-0.2680708703803942,-1.2088164211780341,-0.8053999261213206,-1.3672055933386502,-0.3610794518402468,0.5026678248690227,-0.6818791747062786,-0.9537400997065317,-1.376586740550321,-1.4535378793997464,-0.6008221190682457,-1.0596155241564442,-0.42238030981913444,-1.3821072105647267,-0.41764635335896727,-1.0648828242667219,-3.352347992199656,0.15845370755249985,-0.6296621814288735,0.7444979519329863,-1.6036262360730953,-0.9866202979676373,-0.3795657967883829,-0.20801197669719754,-0.9953677574587848,-0.1309055434347289,-0.4802206061877426,-1.2228233213275674,0.14608897682830432,-0.8929926635236957,-1.539323100099229,-0.766366289544693,0.039415948118911054,-0.9655690828508867,-0.23475497875159357,-0.6346901181878902,-0.09947722137874329,-1.265556059812884,-1.0661821654363097,-1.1425207633891932,-1.3213872308669745,0.1483039598716401,-2.0233397812978473,-0.41783536846442426,-0.21854871570843626,0.32791475087140115,-1.2921342977573205,-1.4231314108623505,-1.1231661091881344],\"xaxis\":\"x\",\"y\":[-0.4701369242500715,0.16279821065433922,-0.24533395857819784,-0.5677029031728232,0.3017619200792828,1.687003792221072,-0.49418943108524194,-0.7996824428286601,-0.6205176983977132,-0.5328509329416722,-0.6191263257114026,3.4319788300694545,-0.6933637227470222,-0.5353102160775369,-0.1326434815693752,-0.39590352036382226,-0.025856249881096284,6.621413719462231,-0.7631663941548624,-0.20950540659373396,7.473529693495274,-0.07469189783461595,-0.5541345377538304,-0.45684839096246227,0.6937959279307416,-0.32641104842539553,-0.4852649354903116,-0.7012480091642814,-0.3646973843647425,-0.7659189570851831,-0.21214511207609435,-0.34188080842545837,0.06026142578683337,-0.6473396514079764,-0.5323217419960863,-0.6617924979403692,-0.40239383407484397,-0.6245734794805281,-0.5749978720933736,-0.537677185613937,-0.29893250482344297,-0.1521267388161485,-0.1201509131779775,-0.380619970559545,-0.4559095851124121,-0.2920419958259935,-0.16611432178340568,-0.35070146948133313,-0.6537662330909801,7.172021051796929,-0.1990582692826368,-0.5043130630897777,-0.34000576723574816,-0.7311780923848111,-0.36596703978899425,-0.7306204307346835,0.00508169093166104,-0.47343330852446247,-0.6783588370995682,-0.764284636447239,-0.6521870007495525,-0.5769100804983599,-0.6983139731868033,-0.3291861130556675,-0.6830340086082541,-0.19636346479544498,-0.7883962224868586,-0.7565796680999393,-0.7415965487221047,-0.5086107831028294,-0.6181669073803433,0.22425774369619653,-0.7241804153138546,-0.5801965772177623,-0.47220472649404044,-0.21717034435672175,-0.5409049649465066,-0.5625781956597043,-0.309404745217916,0.634558075775571,0.01074421166822196,-0.6668593142752546,-0.043677417458716124,-0.20125051539233715,-0.6410727982187957,-0.5320378971896974,-0.7834470951271146,-0.6265354426715526,-0.6514098470366678,4.230090786853286,-0.553604145159043,-0.7320720198797607,-0.4153894204252896,-0.27651863036766816,-0.6318784872551011,-0.6941029879359732,-0.7393953237623287,-0.7079463038783871,-0.5448955822511797,-0.3492940975670371,-0.04750756133725888,-0.3902373022888085,-0.4311470563283533,0.12091865712587986,-0.47906630312268433,-0.4132849005634402,0.2993698546975234,0.5332399648972561,-0.5846435142706221,-0.6294700631349783,-0.5878437186723865,0.5097449084869022,-0.3666563466677245,-0.7337272775995853,-0.09225247473998426,2.0986314718267525,-0.49422372694059447,0.0854208711169737,0.5997445283971321,-0.7051786863585544,-0.5388181526453969,-0.4046673348194719],\"yaxis\":\"y\",\"type\":\"scatter\"},{\"hovertemplate\":\"\\u003cb\\u003e%{hovertext}\\u003c\\u002fb\\u003e\\u003cbr\\u003e\\u003cbr\\u003eCluster=0\\u003cbr\\u003ePC 1=%{x}\\u003cbr\\u003ePC 2=%{y}\\u003cextra\\u003e\\u003c\\u002fextra\\u003e\",\"hovertext\":[\"Bangladesh\",\"Barbados\",\"Belize\",\"Brunei\",\"Costa Rica \",\"Dominica\",\"El Salvador \",\"Equatorial Guinea \",\"Federated States of Micronesia\",\"Fiji \",\"French Guiana \",\"Gabon \",\"Grenada \",\"Guadeloupe \",\"Hong Kong \",\"Indonesia \",\"Jamaica \",\"Japan \",\"Liberia \",\"Macau \",\"Malaysia \",\"Martinique \",\"New Zealand \",\"North Korea \",\"Palau \",\"Palestine \",\"Panama\",\"Papua New Guinea \",\"Philippines \",\"Puerto Rico \",\"Saint Lucia\",\"Saint Vincent and the Grenadines\",\"Sao Tome and Principe \",\"Sierra Leone \",\"Singapore \",\"Solomon Islands\",\"Sri Lanka \",\"Suriname \",\"Taiwan \",\"Timor-Leste \",\"Trinidad and Tobago \"],\"legendgroup\":\"0\",\"marker\":{\"color\":\"#EF553B\",\"symbol\":\"circle\",\"opacity\":0.7,\"size\":6},\"mode\":\"markers\",\"name\":\"0\",\"orientation\":\"v\",\"showlegend\":true,\"x\":[0.7854681305436415,1.2896467986694855,1.4879088462409114,5.763710738598062,2.833545120967713,2.168595394446539,0.8115933783714133,1.2109970548512659,5.1001251066475115,3.208408075555737,1.5168362296908955,0.9233774082584736,2.4890634297766296,0.8065134452960774,1.5960385704915587,1.7990700998904252,1.4438577126000351,0.912223418940175,1.9570031792834197,1.4781328098687108,2.7122809429073875,4.386255519931827,0.9176807584966747,1.6061377372828196,6.877575004806555,3.0337392776561707,3.858526638700936,1.6413742488986625,3.574465538503255,1.6779159306841844,3.2265885463113744,2.375616797081181,1.476437247548076,1.4835935815257197,3.3711099169328302,3.1216605217249147,1.3779801037715806,1.1667093346735935,2.393033723167826,1.010572785388313,1.5946531215787372],\"xaxis\":\"x\",\"y\":[0.5138234073505754,-0.2822800207025751,-0.18843635903623038,0.6941989692578773,0.106400434357043,-0.12109625088106246,-0.3233785723231315,-0.252041900769956,0.00045927401309758565,0.16490988401829354,-0.17304600059041123,-0.20549361028297158,-0.04102345321658173,-0.38239070753706034,-0.3667540051808106,2.9826439492883017,-0.15910766979294563,0.5704748749185597,-0.01947409415436882,-0.5452735750288078,1.7569824532436653,0.36348585122541427,0.11889385270121236,-0.022849609137621237,0.06380569818561409,0.07926650596027109,0.4223956472186984,0.13738037468230477,8.580301103777378,-0.1741050765234939,0.11560371914343873,-0.0729096987679576,-0.2625942486176152,-0.10263654862962926,0.08986780183443245,0.17097115564613674,0.03530245288272526,-0.17551007209498506,0.01944280593413914,-0.28306955838625086,-0.11619990591793275],\"yaxis\":\"y\",\"type\":\"scatter\"}],                        {\"template\":{\"data\":{\"histogram2dcontour\":[{\"type\":\"histogram2dcontour\",\"colorbar\":{\"outlinewidth\":0,\"ticks\":\"\"},\"colorscale\":[[0.0,\"#0d0887\"],[0.1111111111111111,\"#46039f\"],[0.2222222222222222,\"#7201a8\"],[0.3333333333333333,\"#9c179e\"],[0.4444444444444444,\"#bd3786\"],[0.5555555555555556,\"#d8576b\"],[0.6666666666666666,\"#ed7953\"],[0.7777777777777778,\"#fb9f3a\"],[0.8888888888888888,\"#fdca26\"],[1.0,\"#f0f921\"]]}],\"choropleth\":[{\"type\":\"choropleth\",\"colorbar\":{\"outlinewidth\":0,\"ticks\":\"\"}}],\"histogram2d\":[{\"type\":\"histogram2d\",\"colorbar\":{\"outlinewidth\":0,\"ticks\":\"\"},\"colorscale\":[[0.0,\"#0d0887\"],[0.1111111111111111,\"#46039f\"],[0.2222222222222222,\"#7201a8\"],[0.3333333333333333,\"#9c179e\"],[0.4444444444444444,\"#bd3786\"],[0.5555555555555556,\"#d8576b\"],[0.6666666666666666,\"#ed7953\"],[0.7777777777777778,\"#fb9f3a\"],[0.8888888888888888,\"#fdca26\"],[1.0,\"#f0f921\"]]}],\"heatmap\":[{\"type\":\"heatmap\",\"colorbar\":{\"outlinewidth\":0,\"ticks\":\"\"},\"colorscale\":[[0.0,\"#0d0887\"],[0.1111111111111111,\"#46039f\"],[0.2222222222222222,\"#7201a8\"],[0.3333333333333333,\"#9c179e\"],[0.4444444444444444,\"#bd3786\"],[0.5555555555555556,\"#d8576b\"],[0.6666666666666666,\"#ed7953\"],[0.7777777777777778,\"#fb9f3a\"],[0.8888888888888888,\"#fdca26\"],[1.0,\"#f0f921\"]]}],\"heatmapgl\":[{\"type\":\"heatmapgl\",\"colorbar\":{\"outlinewidth\":0,\"ticks\":\"\"},\"colorscale\":[[0.0,\"#0d0887\"],[0.1111111111111111,\"#46039f\"],[0.2222222222222222,\"#7201a8\"],[0.3333333333333333,\"#9c179e\"],[0.4444444444444444,\"#bd3786\"],[0.5555555555555556,\"#d8576b\"],[0.6666666666666666,\"#ed7953\"],[0.7777777777777778,\"#fb9f3a\"],[0.8888888888888888,\"#fdca26\"],[1.0,\"#f0f921\"]]}],\"contourcarpet\":[{\"type\":\"contourcarpet\",\"colorbar\":{\"outlinewidth\":0,\"ticks\":\"\"}}],\"contour\":[{\"type\":\"contour\",\"colorbar\":{\"outlinewidth\":0,\"ticks\":\"\"},\"colorscale\":[[0.0,\"#0d0887\"],[0.1111111111111111,\"#46039f\"],[0.2222222222222222,\"#7201a8\"],[0.3333333333333333,\"#9c179e\"],[0.4444444444444444,\"#bd3786\"],[0.5555555555555556,\"#d8576b\"],[0.6666666666666666,\"#ed7953\"],[0.7777777777777778,\"#fb9f3a\"],[0.8888888888888888,\"#fdca26\"],[1.0,\"#f0f921\"]]}],\"surface\":[{\"type\":\"surface\",\"colorbar\":{\"outlinewidth\":0,\"ticks\":\"\"},\"colorscale\":[[0.0,\"#0d0887\"],[0.1111111111111111,\"#46039f\"],[0.2222222222222222,\"#7201a8\"],[0.3333333333333333,\"#9c179e\"],[0.4444444444444444,\"#bd3786\"],[0.5555555555555556,\"#d8576b\"],[0.6666666666666666,\"#ed7953\"],[0.7777777777777778,\"#fb9f3a\"],[0.8888888888888888,\"#fdca26\"],[1.0,\"#f0f921\"]]}],\"mesh3d\":[{\"type\":\"mesh3d\",\"colorbar\":{\"outlinewidth\":0,\"ticks\":\"\"}}],\"scatter\":[{\"fillpattern\":{\"fillmode\":\"overlay\",\"size\":10,\"solidity\":0.2},\"type\":\"scatter\"}],\"parcoords\":[{\"type\":\"parcoords\",\"line\":{\"colorbar\":{\"outlinewidth\":0,\"ticks\":\"\"}}}],\"scatterpolargl\":[{\"type\":\"scatterpolargl\",\"marker\":{\"colorbar\":{\"outlinewidth\":0,\"ticks\":\"\"}}}],\"bar\":[{\"error_x\":{\"color\":\"#2a3f5f\"},\"error_y\":{\"color\":\"#2a3f5f\"},\"marker\":{\"line\":{\"color\":\"#E5ECF6\",\"width\":0.5},\"pattern\":{\"fillmode\":\"overlay\",\"size\":10,\"solidity\":0.2}},\"type\":\"bar\"}],\"scattergeo\":[{\"type\":\"scattergeo\",\"marker\":{\"colorbar\":{\"outlinewidth\":0,\"ticks\":\"\"}}}],\"scatterpolar\":[{\"type\":\"scatterpolar\",\"marker\":{\"colorbar\":{\"outlinewidth\":0,\"ticks\":\"\"}}}],\"histogram\":[{\"marker\":{\"pattern\":{\"fillmode\":\"overlay\",\"size\":10,\"solidity\":0.2}},\"type\":\"histogram\"}],\"scattergl\":[{\"type\":\"scattergl\",\"marker\":{\"colorbar\":{\"outlinewidth\":0,\"ticks\":\"\"}}}],\"scatter3d\":[{\"type\":\"scatter3d\",\"line\":{\"colorbar\":{\"outlinewidth\":0,\"ticks\":\"\"}},\"marker\":{\"colorbar\":{\"outlinewidth\":0,\"ticks\":\"\"}}}],\"scattermapbox\":[{\"type\":\"scattermapbox\",\"marker\":{\"colorbar\":{\"outlinewidth\":0,\"ticks\":\"\"}}}],\"scatterternary\":[{\"type\":\"scatterternary\",\"marker\":{\"colorbar\":{\"outlinewidth\":0,\"ticks\":\"\"}}}],\"scattercarpet\":[{\"type\":\"scattercarpet\",\"marker\":{\"colorbar\":{\"outlinewidth\":0,\"ticks\":\"\"}}}],\"carpet\":[{\"aaxis\":{\"endlinecolor\":\"#2a3f5f\",\"gridcolor\":\"white\",\"linecolor\":\"white\",\"minorgridcolor\":\"white\",\"startlinecolor\":\"#2a3f5f\"},\"baxis\":{\"endlinecolor\":\"#2a3f5f\",\"gridcolor\":\"white\",\"linecolor\":\"white\",\"minorgridcolor\":\"white\",\"startlinecolor\":\"#2a3f5f\"},\"type\":\"carpet\"}],\"table\":[{\"cells\":{\"fill\":{\"color\":\"#EBF0F8\"},\"line\":{\"color\":\"white\"}},\"header\":{\"fill\":{\"color\":\"#C8D4E3\"},\"line\":{\"color\":\"white\"}},\"type\":\"table\"}],\"barpolar\":[{\"marker\":{\"line\":{\"color\":\"#E5ECF6\",\"width\":0.5},\"pattern\":{\"fillmode\":\"overlay\",\"size\":10,\"solidity\":0.2}},\"type\":\"barpolar\"}],\"pie\":[{\"automargin\":true,\"type\":\"pie\"}]},\"layout\":{\"autotypenumbers\":\"strict\",\"colorway\":[\"#636efa\",\"#EF553B\",\"#00cc96\",\"#ab63fa\",\"#FFA15A\",\"#19d3f3\",\"#FF6692\",\"#B6E880\",\"#FF97FF\",\"#FECB52\"],\"font\":{\"color\":\"#2a3f5f\"},\"hovermode\":\"closest\",\"hoverlabel\":{\"align\":\"left\"},\"paper_bgcolor\":\"white\",\"plot_bgcolor\":\"#E5ECF6\",\"polar\":{\"bgcolor\":\"#E5ECF6\",\"angularaxis\":{\"gridcolor\":\"white\",\"linecolor\":\"white\",\"ticks\":\"\"},\"radialaxis\":{\"gridcolor\":\"white\",\"linecolor\":\"white\",\"ticks\":\"\"}},\"ternary\":{\"bgcolor\":\"#E5ECF6\",\"aaxis\":{\"gridcolor\":\"white\",\"linecolor\":\"white\",\"ticks\":\"\"},\"baxis\":{\"gridcolor\":\"white\",\"linecolor\":\"white\",\"ticks\":\"\"},\"caxis\":{\"gridcolor\":\"white\",\"linecolor\":\"white\",\"ticks\":\"\"}},\"coloraxis\":{\"colorbar\":{\"outlinewidth\":0,\"ticks\":\"\"}},\"colorscale\":{\"sequential\":[[0.0,\"#0d0887\"],[0.1111111111111111,\"#46039f\"],[0.2222222222222222,\"#7201a8\"],[0.3333333333333333,\"#9c179e\"],[0.4444444444444444,\"#bd3786\"],[0.5555555555555556,\"#d8576b\"],[0.6666666666666666,\"#ed7953\"],[0.7777777777777778,\"#fb9f3a\"],[0.8888888888888888,\"#fdca26\"],[1.0,\"#f0f921\"]],\"sequentialminus\":[[0.0,\"#0d0887\"],[0.1111111111111111,\"#46039f\"],[0.2222222222222222,\"#7201a8\"],[0.3333333333333333,\"#9c179e\"],[0.4444444444444444,\"#bd3786\"],[0.5555555555555556,\"#d8576b\"],[0.6666666666666666,\"#ed7953\"],[0.7777777777777778,\"#fb9f3a\"],[0.8888888888888888,\"#fdca26\"],[1.0,\"#f0f921\"]],\"diverging\":[[0,\"#8e0152\"],[0.1,\"#c51b7d\"],[0.2,\"#de77ae\"],[0.3,\"#f1b6da\"],[0.4,\"#fde0ef\"],[0.5,\"#f7f7f7\"],[0.6,\"#e6f5d0\"],[0.7,\"#b8e186\"],[0.8,\"#7fbc41\"],[0.9,\"#4d9221\"],[1,\"#276419\"]]},\"xaxis\":{\"gridcolor\":\"white\",\"linecolor\":\"white\",\"ticks\":\"\",\"title\":{\"standoff\":15},\"zerolinecolor\":\"white\",\"automargin\":true,\"zerolinewidth\":2},\"yaxis\":{\"gridcolor\":\"white\",\"linecolor\":\"white\",\"ticks\":\"\",\"title\":{\"standoff\":15},\"zerolinecolor\":\"white\",\"automargin\":true,\"zerolinewidth\":2},\"scene\":{\"xaxis\":{\"backgroundcolor\":\"#E5ECF6\",\"gridcolor\":\"white\",\"linecolor\":\"white\",\"showbackground\":true,\"ticks\":\"\",\"zerolinecolor\":\"white\",\"gridwidth\":2},\"yaxis\":{\"backgroundcolor\":\"#E5ECF6\",\"gridcolor\":\"white\",\"linecolor\":\"white\",\"showbackground\":true,\"ticks\":\"\",\"zerolinecolor\":\"white\",\"gridwidth\":2},\"zaxis\":{\"backgroundcolor\":\"#E5ECF6\",\"gridcolor\":\"white\",\"linecolor\":\"white\",\"showbackground\":true,\"ticks\":\"\",\"zerolinecolor\":\"white\",\"gridwidth\":2}},\"shapedefaults\":{\"line\":{\"color\":\"#2a3f5f\"}},\"annotationdefaults\":{\"arrowcolor\":\"#2a3f5f\",\"arrowhead\":0,\"arrowwidth\":1},\"geo\":{\"bgcolor\":\"white\",\"landcolor\":\"#E5ECF6\",\"subunitcolor\":\"white\",\"showland\":true,\"showlakes\":true,\"lakecolor\":\"white\"},\"title\":{\"x\":0.05},\"mapbox\":{\"style\":\"light\"}}},\"xaxis\":{\"anchor\":\"y\",\"domain\":[0.0,1.0],\"title\":{\"text\":\"PC 1\"}},\"yaxis\":{\"anchor\":\"x\",\"domain\":[0.0,1.0],\"title\":{\"text\":\"PC 2\"}},\"legend\":{\"title\":{\"text\":\"Cluster\"},\"tracegroupgap\":0},\"title\":{\"text\":\"K-Means Clusters (PCA) — hover for country\"}},                        {\"responsive\": true}                    ).then(function(){\n",
              "                            \n",
              "var gd = document.getElementById('68b76b98-4b61-4eb1-8b27-ebf4cf39d667');\n",
              "var x = new MutationObserver(function (mutations, observer) {{\n",
              "        var display = window.getComputedStyle(gd).display;\n",
              "        if (!display || display === 'none') {{\n",
              "            console.log([gd, 'removed!']);\n",
              "            Plotly.purge(gd);\n",
              "            observer.disconnect();\n",
              "        }}\n",
              "}});\n",
              "\n",
              "// Listen for the removal of the full notebook cells\n",
              "var notebookContainer = gd.closest('#notebook-container');\n",
              "if (notebookContainer) {{\n",
              "    x.observe(notebookContainer, {childList: true});\n",
              "}}\n",
              "\n",
              "// Listen for the clearing of the current output cell\n",
              "var outputEl = gd.closest('.output');\n",
              "if (outputEl) {{\n",
              "    x.observe(outputEl, {childList: true});\n",
              "}}\n",
              "\n",
              "                        })                };                            </script>        </div>\n",
              "</body>\n",
              "</html>"
            ]
          },
          "metadata": {}
        }
      ]
    }
  ]
}