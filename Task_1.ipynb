{
  "nbformat": 4,
  "nbformat_minor": 0,
  "metadata": {
    "colab": {
      "provenance": [],
      "authorship_tag": "ABX9TyPbsHzf8p+k+zquN4u4Rdb/",
      "include_colab_link": true
    },
    "kernelspec": {
      "name": "python3",
      "display_name": "Python 3"
    },
    "language_info": {
      "name": "python"
    }
  },
  "cells": [
    {
      "cell_type": "markdown",
      "metadata": {
        "id": "view-in-github",
        "colab_type": "text"
      },
      "source": [
        "<a href=\"https://colab.research.google.com/github/Nebil1/UNDP-FTL-AI/blob/main/Task_1.ipynb\" target=\"_parent\"><img src=\"https://colab.research.google.com/assets/colab-badge.svg\" alt=\"Open In Colab\"/></a>"
      ]
    },
    {
      "cell_type": "markdown",
      "source": [
        "##Install & Import Libraries"
      ],
      "metadata": {
        "id": "kCnm876R3gQE"
      }
    },
    {
      "cell_type": "code",
      "execution_count": 2,
      "metadata": {
        "id": "t7f0sIM-Knka",
        "colab": {
          "base_uri": "https://localhost:8080/"
        },
        "collapsed": true,
        "outputId": "6a5e78ad-2c4b-4769-cf5d-3fc19479f670"
      },
      "outputs": [
        {
          "output_type": "stream",
          "name": "stdout",
          "text": [
            "Requirement already satisfied: pandas in /usr/local/lib/python3.11/dist-packages (2.2.2)\n",
            "Requirement already satisfied: scikit-learn in /usr/local/lib/python3.11/dist-packages (1.6.1)\n",
            "Requirement already satisfied: matplotlib in /usr/local/lib/python3.11/dist-packages (3.10.0)\n",
            "Requirement already satisfied: seaborn in /usr/local/lib/python3.11/dist-packages (0.13.2)\n",
            "Requirement already satisfied: numpy>=1.23.2 in /usr/local/lib/python3.11/dist-packages (from pandas) (2.0.2)\n",
            "Requirement already satisfied: python-dateutil>=2.8.2 in /usr/local/lib/python3.11/dist-packages (from pandas) (2.9.0.post0)\n",
            "Requirement already satisfied: pytz>=2020.1 in /usr/local/lib/python3.11/dist-packages (from pandas) (2025.2)\n",
            "Requirement already satisfied: tzdata>=2022.7 in /usr/local/lib/python3.11/dist-packages (from pandas) (2025.2)\n",
            "Requirement already satisfied: scipy>=1.6.0 in /usr/local/lib/python3.11/dist-packages (from scikit-learn) (1.15.3)\n",
            "Requirement already satisfied: joblib>=1.2.0 in /usr/local/lib/python3.11/dist-packages (from scikit-learn) (1.5.1)\n",
            "Requirement already satisfied: threadpoolctl>=3.1.0 in /usr/local/lib/python3.11/dist-packages (from scikit-learn) (3.6.0)\n",
            "Requirement already satisfied: contourpy>=1.0.1 in /usr/local/lib/python3.11/dist-packages (from matplotlib) (1.3.2)\n",
            "Requirement already satisfied: cycler>=0.10 in /usr/local/lib/python3.11/dist-packages (from matplotlib) (0.12.1)\n",
            "Requirement already satisfied: fonttools>=4.22.0 in /usr/local/lib/python3.11/dist-packages (from matplotlib) (4.58.4)\n",
            "Requirement already satisfied: kiwisolver>=1.3.1 in /usr/local/lib/python3.11/dist-packages (from matplotlib) (1.4.8)\n",
            "Requirement already satisfied: packaging>=20.0 in /usr/local/lib/python3.11/dist-packages (from matplotlib) (24.2)\n",
            "Requirement already satisfied: pillow>=8 in /usr/local/lib/python3.11/dist-packages (from matplotlib) (11.2.1)\n",
            "Requirement already satisfied: pyparsing>=2.3.1 in /usr/local/lib/python3.11/dist-packages (from matplotlib) (3.2.3)\n",
            "Requirement already satisfied: six>=1.5 in /usr/local/lib/python3.11/dist-packages (from python-dateutil>=2.8.2->pandas) (1.17.0)\n"
          ]
        }
      ],
      "source": [
        "!pip install pandas scikit-learn matplotlib seaborn"
      ]
    },
    {
      "cell_type": "code",
      "source": [
        "import pandas as pd\n",
        "import numpy as np\n",
        "import matplotlib.pyplot as plt\n",
        "import seaborn as sns\n",
        "\n",
        "from sklearn.model_selection import train_test_split\n",
        "from sklearn.preprocessing import StandardScaler\n",
        "from sklearn.linear_model import LogisticRegression\n",
        "from sklearn.metrics import (accuracy_score, precision_score, recall_score, classification_report, confusion_matrix)"
      ],
      "metadata": {
        "id": "q_3GqbhtJC1D"
      },
      "execution_count": 3,
      "outputs": []
    },
    {
      "cell_type": "markdown",
      "source": [
        "##Load the Data"
      ],
      "metadata": {
        "id": "FSprv9S3Madi"
      }
    },
    {
      "cell_type": "code",
      "source": [
        "file_url = \"https://drive.google.com/uc?id=1zIk9JOdJEu9YF7Xuv2C8f2Q8ySfG3nHd\"\n",
        "df = pd.read_csv(file_url)"
      ],
      "metadata": {
        "id": "Pj9Qi0LuMshw"
      },
      "execution_count": 4,
      "outputs": []
    },
    {
      "cell_type": "code",
      "source": [
        "print(\"Starting shape:\", df.shape)\n",
        "df.head()"
      ],
      "metadata": {
        "colab": {
          "base_uri": "https://localhost:8080/",
          "height": 293
        },
        "id": "kcCTYw9kvaOE",
        "outputId": "9ae52958-5869-46cc-f892-5ca076d075ca"
      },
      "execution_count": 5,
      "outputs": [
        {
          "output_type": "stream",
          "name": "stdout",
          "text": [
            "Starting shape: (165, 14)\n"
          ]
        },
        {
          "output_type": "execute_result",
          "data": {
            "text/plain": [
              "  Country or Administrative area Area [km2] Coast length [km]  \\\n",
              "0                        Albania     28'486               362   \n",
              "1                        Algeria  2'316'559               998   \n",
              "2                         Angola  1'247'357             1'600   \n",
              "3            Antigua and Barbuda        443               153   \n",
              "4                      Argentina  2'779'705             4'989   \n",
              "\n",
              "  Rainfall [mm year -1]  Factor L/A [-]  Factor (L/A) *P [-] P[E] [%]  \\\n",
              "0                 1'117          0.0100                 14.0    1.56%   \n",
              "1                    80          0.0004                  0.0    0.09%   \n",
              "2                 1'025          0.0010                  1.0    0.09%   \n",
              "3                   996          0.3000                344.0    3.08%   \n",
              "4                   567          0.0020                  1.0    0.26%   \n",
              "\n",
              "  MPW (metric tons year -1) M[E] (metric tons year -1) Ratio Me/MPW  \\\n",
              "0                    69'833                      1'565        2.24%   \n",
              "1                   764'578                      5'774        0.76%   \n",
              "2                   236'946                        860        0.36%   \n",
              "3                       627                          2        0.29%   \n",
              "4                   465'808                      4'137        0.89%   \n",
              "\n",
              "   Unnamed: 10  Unnamed: 11  Unnamed: 12  Unnamed: 13  \n",
              "0          NaN          NaN          NaN          NaN  \n",
              "1          NaN          NaN          NaN          NaN  \n",
              "2          NaN          NaN          NaN          NaN  \n",
              "3          NaN          NaN          NaN          NaN  \n",
              "4          NaN          NaN          NaN          NaN  "
            ],
            "text/html": [
              "\n",
              "  <div id=\"df-e8e3be46-e30d-46db-8888-fd72fc3c6084\" class=\"colab-df-container\">\n",
              "    <div>\n",
              "<style scoped>\n",
              "    .dataframe tbody tr th:only-of-type {\n",
              "        vertical-align: middle;\n",
              "    }\n",
              "\n",
              "    .dataframe tbody tr th {\n",
              "        vertical-align: top;\n",
              "    }\n",
              "\n",
              "    .dataframe thead th {\n",
              "        text-align: right;\n",
              "    }\n",
              "</style>\n",
              "<table border=\"1\" class=\"dataframe\">\n",
              "  <thead>\n",
              "    <tr style=\"text-align: right;\">\n",
              "      <th></th>\n",
              "      <th>Country or Administrative area</th>\n",
              "      <th>Area [km2]</th>\n",
              "      <th>Coast length [km]</th>\n",
              "      <th>Rainfall [mm year -1]</th>\n",
              "      <th>Factor L/A [-]</th>\n",
              "      <th>Factor (L/A) *P [-]</th>\n",
              "      <th>P[E] [%]</th>\n",
              "      <th>MPW (metric tons year -1)</th>\n",
              "      <th>M[E] (metric tons year -1)</th>\n",
              "      <th>Ratio Me/MPW</th>\n",
              "      <th>Unnamed: 10</th>\n",
              "      <th>Unnamed: 11</th>\n",
              "      <th>Unnamed: 12</th>\n",
              "      <th>Unnamed: 13</th>\n",
              "    </tr>\n",
              "  </thead>\n",
              "  <tbody>\n",
              "    <tr>\n",
              "      <th>0</th>\n",
              "      <td>Albania</td>\n",
              "      <td>28'486</td>\n",
              "      <td>362</td>\n",
              "      <td>1'117</td>\n",
              "      <td>0.0100</td>\n",
              "      <td>14.0</td>\n",
              "      <td>1.56%</td>\n",
              "      <td>69'833</td>\n",
              "      <td>1'565</td>\n",
              "      <td>2.24%</td>\n",
              "      <td>NaN</td>\n",
              "      <td>NaN</td>\n",
              "      <td>NaN</td>\n",
              "      <td>NaN</td>\n",
              "    </tr>\n",
              "    <tr>\n",
              "      <th>1</th>\n",
              "      <td>Algeria</td>\n",
              "      <td>2'316'559</td>\n",
              "      <td>998</td>\n",
              "      <td>80</td>\n",
              "      <td>0.0004</td>\n",
              "      <td>0.0</td>\n",
              "      <td>0.09%</td>\n",
              "      <td>764'578</td>\n",
              "      <td>5'774</td>\n",
              "      <td>0.76%</td>\n",
              "      <td>NaN</td>\n",
              "      <td>NaN</td>\n",
              "      <td>NaN</td>\n",
              "      <td>NaN</td>\n",
              "    </tr>\n",
              "    <tr>\n",
              "      <th>2</th>\n",
              "      <td>Angola</td>\n",
              "      <td>1'247'357</td>\n",
              "      <td>1'600</td>\n",
              "      <td>1'025</td>\n",
              "      <td>0.0010</td>\n",
              "      <td>1.0</td>\n",
              "      <td>0.09%</td>\n",
              "      <td>236'946</td>\n",
              "      <td>860</td>\n",
              "      <td>0.36%</td>\n",
              "      <td>NaN</td>\n",
              "      <td>NaN</td>\n",
              "      <td>NaN</td>\n",
              "      <td>NaN</td>\n",
              "    </tr>\n",
              "    <tr>\n",
              "      <th>3</th>\n",
              "      <td>Antigua and Barbuda</td>\n",
              "      <td>443</td>\n",
              "      <td>153</td>\n",
              "      <td>996</td>\n",
              "      <td>0.3000</td>\n",
              "      <td>344.0</td>\n",
              "      <td>3.08%</td>\n",
              "      <td>627</td>\n",
              "      <td>2</td>\n",
              "      <td>0.29%</td>\n",
              "      <td>NaN</td>\n",
              "      <td>NaN</td>\n",
              "      <td>NaN</td>\n",
              "      <td>NaN</td>\n",
              "    </tr>\n",
              "    <tr>\n",
              "      <th>4</th>\n",
              "      <td>Argentina</td>\n",
              "      <td>2'779'705</td>\n",
              "      <td>4'989</td>\n",
              "      <td>567</td>\n",
              "      <td>0.0020</td>\n",
              "      <td>1.0</td>\n",
              "      <td>0.26%</td>\n",
              "      <td>465'808</td>\n",
              "      <td>4'137</td>\n",
              "      <td>0.89%</td>\n",
              "      <td>NaN</td>\n",
              "      <td>NaN</td>\n",
              "      <td>NaN</td>\n",
              "      <td>NaN</td>\n",
              "    </tr>\n",
              "  </tbody>\n",
              "</table>\n",
              "</div>\n",
              "    <div class=\"colab-df-buttons\">\n",
              "\n",
              "  <div class=\"colab-df-container\">\n",
              "    <button class=\"colab-df-convert\" onclick=\"convertToInteractive('df-e8e3be46-e30d-46db-8888-fd72fc3c6084')\"\n",
              "            title=\"Convert this dataframe to an interactive table.\"\n",
              "            style=\"display:none;\">\n",
              "\n",
              "  <svg xmlns=\"http://www.w3.org/2000/svg\" height=\"24px\" viewBox=\"0 -960 960 960\">\n",
              "    <path d=\"M120-120v-720h720v720H120Zm60-500h600v-160H180v160Zm220 220h160v-160H400v160Zm0 220h160v-160H400v160ZM180-400h160v-160H180v160Zm440 0h160v-160H620v160ZM180-180h160v-160H180v160Zm440 0h160v-160H620v160Z\"/>\n",
              "  </svg>\n",
              "    </button>\n",
              "\n",
              "  <style>\n",
              "    .colab-df-container {\n",
              "      display:flex;\n",
              "      gap: 12px;\n",
              "    }\n",
              "\n",
              "    .colab-df-convert {\n",
              "      background-color: #E8F0FE;\n",
              "      border: none;\n",
              "      border-radius: 50%;\n",
              "      cursor: pointer;\n",
              "      display: none;\n",
              "      fill: #1967D2;\n",
              "      height: 32px;\n",
              "      padding: 0 0 0 0;\n",
              "      width: 32px;\n",
              "    }\n",
              "\n",
              "    .colab-df-convert:hover {\n",
              "      background-color: #E2EBFA;\n",
              "      box-shadow: 0px 1px 2px rgba(60, 64, 67, 0.3), 0px 1px 3px 1px rgba(60, 64, 67, 0.15);\n",
              "      fill: #174EA6;\n",
              "    }\n",
              "\n",
              "    .colab-df-buttons div {\n",
              "      margin-bottom: 4px;\n",
              "    }\n",
              "\n",
              "    [theme=dark] .colab-df-convert {\n",
              "      background-color: #3B4455;\n",
              "      fill: #D2E3FC;\n",
              "    }\n",
              "\n",
              "    [theme=dark] .colab-df-convert:hover {\n",
              "      background-color: #434B5C;\n",
              "      box-shadow: 0px 1px 3px 1px rgba(0, 0, 0, 0.15);\n",
              "      filter: drop-shadow(0px 1px 2px rgba(0, 0, 0, 0.3));\n",
              "      fill: #FFFFFF;\n",
              "    }\n",
              "  </style>\n",
              "\n",
              "    <script>\n",
              "      const buttonEl =\n",
              "        document.querySelector('#df-e8e3be46-e30d-46db-8888-fd72fc3c6084 button.colab-df-convert');\n",
              "      buttonEl.style.display =\n",
              "        google.colab.kernel.accessAllowed ? 'block' : 'none';\n",
              "\n",
              "      async function convertToInteractive(key) {\n",
              "        const element = document.querySelector('#df-e8e3be46-e30d-46db-8888-fd72fc3c6084');\n",
              "        const dataTable =\n",
              "          await google.colab.kernel.invokeFunction('convertToInteractive',\n",
              "                                                    [key], {});\n",
              "        if (!dataTable) return;\n",
              "\n",
              "        const docLinkHtml = 'Like what you see? Visit the ' +\n",
              "          '<a target=\"_blank\" href=https://colab.research.google.com/notebooks/data_table.ipynb>data table notebook</a>'\n",
              "          + ' to learn more about interactive tables.';\n",
              "        element.innerHTML = '';\n",
              "        dataTable['output_type'] = 'display_data';\n",
              "        await google.colab.output.renderOutput(dataTable, element);\n",
              "        const docLink = document.createElement('div');\n",
              "        docLink.innerHTML = docLinkHtml;\n",
              "        element.appendChild(docLink);\n",
              "      }\n",
              "    </script>\n",
              "  </div>\n",
              "\n",
              "\n",
              "    <div id=\"df-f7fc8a40-a526-4b33-9bfb-a08e1eeedfcc\">\n",
              "      <button class=\"colab-df-quickchart\" onclick=\"quickchart('df-f7fc8a40-a526-4b33-9bfb-a08e1eeedfcc')\"\n",
              "                title=\"Suggest charts\"\n",
              "                style=\"display:none;\">\n",
              "\n",
              "<svg xmlns=\"http://www.w3.org/2000/svg\" height=\"24px\"viewBox=\"0 0 24 24\"\n",
              "     width=\"24px\">\n",
              "    <g>\n",
              "        <path d=\"M19 3H5c-1.1 0-2 .9-2 2v14c0 1.1.9 2 2 2h14c1.1 0 2-.9 2-2V5c0-1.1-.9-2-2-2zM9 17H7v-7h2v7zm4 0h-2V7h2v10zm4 0h-2v-4h2v4z\"/>\n",
              "    </g>\n",
              "</svg>\n",
              "      </button>\n",
              "\n",
              "<style>\n",
              "  .colab-df-quickchart {\n",
              "      --bg-color: #E8F0FE;\n",
              "      --fill-color: #1967D2;\n",
              "      --hover-bg-color: #E2EBFA;\n",
              "      --hover-fill-color: #174EA6;\n",
              "      --disabled-fill-color: #AAA;\n",
              "      --disabled-bg-color: #DDD;\n",
              "  }\n",
              "\n",
              "  [theme=dark] .colab-df-quickchart {\n",
              "      --bg-color: #3B4455;\n",
              "      --fill-color: #D2E3FC;\n",
              "      --hover-bg-color: #434B5C;\n",
              "      --hover-fill-color: #FFFFFF;\n",
              "      --disabled-bg-color: #3B4455;\n",
              "      --disabled-fill-color: #666;\n",
              "  }\n",
              "\n",
              "  .colab-df-quickchart {\n",
              "    background-color: var(--bg-color);\n",
              "    border: none;\n",
              "    border-radius: 50%;\n",
              "    cursor: pointer;\n",
              "    display: none;\n",
              "    fill: var(--fill-color);\n",
              "    height: 32px;\n",
              "    padding: 0;\n",
              "    width: 32px;\n",
              "  }\n",
              "\n",
              "  .colab-df-quickchart:hover {\n",
              "    background-color: var(--hover-bg-color);\n",
              "    box-shadow: 0 1px 2px rgba(60, 64, 67, 0.3), 0 1px 3px 1px rgba(60, 64, 67, 0.15);\n",
              "    fill: var(--button-hover-fill-color);\n",
              "  }\n",
              "\n",
              "  .colab-df-quickchart-complete:disabled,\n",
              "  .colab-df-quickchart-complete:disabled:hover {\n",
              "    background-color: var(--disabled-bg-color);\n",
              "    fill: var(--disabled-fill-color);\n",
              "    box-shadow: none;\n",
              "  }\n",
              "\n",
              "  .colab-df-spinner {\n",
              "    border: 2px solid var(--fill-color);\n",
              "    border-color: transparent;\n",
              "    border-bottom-color: var(--fill-color);\n",
              "    animation:\n",
              "      spin 1s steps(1) infinite;\n",
              "  }\n",
              "\n",
              "  @keyframes spin {\n",
              "    0% {\n",
              "      border-color: transparent;\n",
              "      border-bottom-color: var(--fill-color);\n",
              "      border-left-color: var(--fill-color);\n",
              "    }\n",
              "    20% {\n",
              "      border-color: transparent;\n",
              "      border-left-color: var(--fill-color);\n",
              "      border-top-color: var(--fill-color);\n",
              "    }\n",
              "    30% {\n",
              "      border-color: transparent;\n",
              "      border-left-color: var(--fill-color);\n",
              "      border-top-color: var(--fill-color);\n",
              "      border-right-color: var(--fill-color);\n",
              "    }\n",
              "    40% {\n",
              "      border-color: transparent;\n",
              "      border-right-color: var(--fill-color);\n",
              "      border-top-color: var(--fill-color);\n",
              "    }\n",
              "    60% {\n",
              "      border-color: transparent;\n",
              "      border-right-color: var(--fill-color);\n",
              "    }\n",
              "    80% {\n",
              "      border-color: transparent;\n",
              "      border-right-color: var(--fill-color);\n",
              "      border-bottom-color: var(--fill-color);\n",
              "    }\n",
              "    90% {\n",
              "      border-color: transparent;\n",
              "      border-bottom-color: var(--fill-color);\n",
              "    }\n",
              "  }\n",
              "</style>\n",
              "\n",
              "      <script>\n",
              "        async function quickchart(key) {\n",
              "          const quickchartButtonEl =\n",
              "            document.querySelector('#' + key + ' button');\n",
              "          quickchartButtonEl.disabled = true;  // To prevent multiple clicks.\n",
              "          quickchartButtonEl.classList.add('colab-df-spinner');\n",
              "          try {\n",
              "            const charts = await google.colab.kernel.invokeFunction(\n",
              "                'suggestCharts', [key], {});\n",
              "          } catch (error) {\n",
              "            console.error('Error during call to suggestCharts:', error);\n",
              "          }\n",
              "          quickchartButtonEl.classList.remove('colab-df-spinner');\n",
              "          quickchartButtonEl.classList.add('colab-df-quickchart-complete');\n",
              "        }\n",
              "        (() => {\n",
              "          let quickchartButtonEl =\n",
              "            document.querySelector('#df-f7fc8a40-a526-4b33-9bfb-a08e1eeedfcc button');\n",
              "          quickchartButtonEl.style.display =\n",
              "            google.colab.kernel.accessAllowed ? 'block' : 'none';\n",
              "        })();\n",
              "      </script>\n",
              "    </div>\n",
              "\n",
              "    </div>\n",
              "  </div>\n"
            ],
            "application/vnd.google.colaboratory.intrinsic+json": {
              "type": "dataframe",
              "variable_name": "df",
              "summary": "{\n  \"name\": \"df\",\n  \"rows\": 165,\n  \"fields\": [\n    {\n      \"column\": \"Country or Administrative area\",\n      \"properties\": {\n        \"dtype\": \"string\",\n        \"num_unique_values\": 163,\n        \"samples\": [\n          \"Somalia \",\n          \"Puerto Rico \",\n          \"Sint Maarten \"\n        ],\n        \"semantic_type\": \"\",\n        \"description\": \"\"\n      }\n    },\n    {\n      \"column\": \"Area [km2]\",\n      \"properties\": {\n        \"dtype\": \"string\",\n        \"num_unique_values\": 163,\n        \"samples\": [\n          \"633'217\",\n          \"9'018\",\n          \"41\"\n        ],\n        \"semantic_type\": \"\",\n        \"description\": \"\"\n      }\n    },\n    {\n      \"column\": \"Coast length [km]\",\n      \"properties\": {\n        \"dtype\": \"string\",\n        \"num_unique_values\": 145,\n        \"samples\": [\n          \"26\",\n          \"660\",\n          \"1'290\"\n        ],\n        \"semantic_type\": \"\",\n        \"description\": \"\"\n      }\n    },\n    {\n      \"column\": \"Rainfall [mm year -1]\",\n      \"properties\": {\n        \"dtype\": \"string\",\n        \"num_unique_values\": 160,\n        \"samples\": [\n          \"2'763\",\n          \"2'982\",\n          \"2'514\"\n        ],\n        \"semantic_type\": \"\",\n        \"description\": \"\"\n      }\n    },\n    {\n      \"column\": \"Factor L/A [-]\",\n      \"properties\": {\n        \"dtype\": \"number\",\n        \"std\": 0.5135051992878183,\n        \"min\": 1e-05,\n        \"max\": 4.0,\n        \"num_unique_values\": 36,\n        \"samples\": [\n          0.04,\n          0.1,\n          0.0003\n        ],\n        \"semantic_type\": \"\",\n        \"description\": \"\"\n      }\n    },\n    {\n      \"column\": \"Factor (L/A) *P [-]\",\n      \"properties\": {\n        \"dtype\": \"number\",\n        \"std\": 949.6357164411893,\n        \"min\": 0.0,\n        \"max\": 9129.0,\n        \"num_unique_values\": 78,\n        \"samples\": [\n          258.0,\n          14.0,\n          95.0\n        ],\n        \"semantic_type\": \"\",\n        \"description\": \"\"\n      }\n    },\n    {\n      \"column\": \"P[E] [%]\",\n      \"properties\": {\n        \"dtype\": \"string\",\n        \"num_unique_values\": 109,\n        \"samples\": [\n          \"0.02%\",\n          \"3.54%\",\n          \"0.18%\"\n        ],\n        \"semantic_type\": \"\",\n        \"description\": \"\"\n      }\n    },\n    {\n      \"column\": \"MPW (metric tons year -1)\",\n      \"properties\": {\n        \"dtype\": \"string\",\n        \"num_unique_values\": 161,\n        \"samples\": [\n          \"116\",\n          \"119'538\",\n          \"7'502\"\n        ],\n        \"semantic_type\": \"\",\n        \"description\": \"\"\n      }\n    },\n    {\n      \"column\": \"M[E] (metric tons year -1)\",\n      \"properties\": {\n        \"dtype\": \"string\",\n        \"num_unique_values\": 124,\n        \"samples\": [\n          \"1'113\",\n          \"235\",\n          \"808\"\n        ],\n        \"semantic_type\": \"\",\n        \"description\": \"\"\n      }\n    },\n    {\n      \"column\": \"Ratio Me/MPW\",\n      \"properties\": {\n        \"dtype\": \"string\",\n        \"num_unique_values\": 118,\n        \"samples\": [\n          \"1.67%\",\n          \"1.99%\",\n          \"0.89%\"\n        ],\n        \"semantic_type\": \"\",\n        \"description\": \"\"\n      }\n    },\n    {\n      \"column\": \"Unnamed: 10\",\n      \"properties\": {\n        \"dtype\": \"number\",\n        \"std\": null,\n        \"min\": null,\n        \"max\": null,\n        \"num_unique_values\": 0,\n        \"samples\": [],\n        \"semantic_type\": \"\",\n        \"description\": \"\"\n      }\n    },\n    {\n      \"column\": \"Unnamed: 11\",\n      \"properties\": {\n        \"dtype\": \"number\",\n        \"std\": null,\n        \"min\": null,\n        \"max\": null,\n        \"num_unique_values\": 0,\n        \"samples\": [],\n        \"semantic_type\": \"\",\n        \"description\": \"\"\n      }\n    },\n    {\n      \"column\": \"Unnamed: 12\",\n      \"properties\": {\n        \"dtype\": \"number\",\n        \"std\": null,\n        \"min\": null,\n        \"max\": null,\n        \"num_unique_values\": 0,\n        \"samples\": [],\n        \"semantic_type\": \"\",\n        \"description\": \"\"\n      }\n    },\n    {\n      \"column\": \"Unnamed: 13\",\n      \"properties\": {\n        \"dtype\": \"number\",\n        \"std\": null,\n        \"min\": null,\n        \"max\": null,\n        \"num_unique_values\": 0,\n        \"samples\": [],\n        \"semantic_type\": \"\",\n        \"description\": \"\"\n      }\n    }\n  ]\n}"
            }
          },
          "metadata": {},
          "execution_count": 5
        }
      ]
    },
    {
      "cell_type": "markdown",
      "source": [
        "Count missing per column"
      ],
      "metadata": {
        "id": "8mtORiA5XVfP"
      }
    },
    {
      "cell_type": "code",
      "source": [
        "missing_counts = df.isna().sum()\n",
        "print(missing_counts)"
      ],
      "metadata": {
        "colab": {
          "base_uri": "https://localhost:8080/"
        },
        "id": "20anTRTgYUZy",
        "outputId": "1ccde901-07c0-4c0b-bf92-cd090c572cf2"
      },
      "execution_count": 6,
      "outputs": [
        {
          "output_type": "stream",
          "name": "stdout",
          "text": [
            "Country or Administrative area      2\n",
            "Area [km2]                          2\n",
            "Coast length [km]                   2\n",
            "Rainfall [mm year -1]               2\n",
            "Factor L/A [-]                      2\n",
            "Factor (L/A) *P [-]                 2\n",
            "P[E] [%]                            2\n",
            "MPW (metric tons year -1)           2\n",
            "M[E] (metric tons year -1)          2\n",
            "Ratio Me/MPW                        2\n",
            "Unnamed: 10                       165\n",
            "Unnamed: 11                       165\n",
            "Unnamed: 12                       165\n",
            "Unnamed: 13                       165\n",
            "dtype: int64\n"
          ]
        }
      ]
    },
    {
      "cell_type": "markdown",
      "source": [
        "## Drop empty “Unnamed” columns\n"
      ],
      "metadata": {
        "id": "k0cuq1iY9h5n"
      }
    },
    {
      "cell_type": "code",
      "source": [
        "empty_cols = ['Unnamed: 10','Unnamed: 11','Unnamed: 12','Unnamed: 13']\n",
        "df = df.drop(columns=empty_cols)\n",
        "print(\"After dropping empty columns:\", df.shape)"
      ],
      "metadata": {
        "id": "D1V4obwEcKKB",
        "colab": {
          "base_uri": "https://localhost:8080/"
        },
        "outputId": "c0b69407-5714-4c42-a794-b5339db636ef"
      },
      "execution_count": 7,
      "outputs": [
        {
          "output_type": "stream",
          "name": "stdout",
          "text": [
            "After dropping empty columns: (165, 10)\n"
          ]
        }
      ]
    },
    {
      "cell_type": "markdown",
      "source": [
        "##Remove anything except digits, decimal point, or minus sign"
      ],
      "metadata": {
        "id": "AMkl0LRq2iv9"
      }
    },
    {
      "cell_type": "code",
      "source": [
        "# Helper to strip symbols → float\n",
        "def clean_numeric(s):\n",
        "    return (s.astype(str)\n",
        "             .str.replace(r'[^0-9.\\-]', '', regex=True)\n",
        "             .replace('', np.nan)\n",
        "             .astype(float))"
      ],
      "metadata": {
        "id": "MaVbEqQB2md0"
      },
      "execution_count": 8,
      "outputs": []
    },
    {
      "cell_type": "code",
      "source": [
        "# Clean columns with units/%\n",
        "for c in ['P[E] [%]', 'Ratio Me/MPW', 'Area [km2]', 'Coast length [km]', 'Rainfall [mm year-1]', 'MPW (metric tons year -1)', 'Rainfall [mm year -1]']:\n",
        "    if c in df: df[c] = clean_numeric(df[c])"
      ],
      "metadata": {
        "id": "C3ti6QND21fr"
      },
      "execution_count": 9,
      "outputs": []
    },
    {
      "cell_type": "markdown",
      "source": [
        "##Convert & Impute the Main Target Column"
      ],
      "metadata": {
        "id": "tr4e2sHl3TBJ"
      }
    },
    {
      "cell_type": "code",
      "source": [
        "# 4) Convert & impute main target\n",
        "col = 'M[E] (metric tons year -1)'\n",
        "df[col] = pd.to_numeric(df[col], errors='coerce')\n",
        "df[col].fillna(df[col].mean(), inplace=True)"
      ],
      "metadata": {
        "id": "NUPygj4F7zjI",
        "colab": {
          "base_uri": "https://localhost:8080/"
        },
        "outputId": "f05439dd-71ef-4369-aaec-6e7c7e07cd85"
      },
      "execution_count": 10,
      "outputs": [
        {
          "output_type": "stream",
          "name": "stderr",
          "text": [
            "/tmp/ipython-input-10-1410188786.py:4: FutureWarning: A value is trying to be set on a copy of a DataFrame or Series through chained assignment using an inplace method.\n",
            "The behavior will change in pandas 3.0. This inplace method will never work because the intermediate object on which we are setting values always behaves as a copy.\n",
            "\n",
            "For example, when doing 'df[col].method(value, inplace=True)', try using 'df.method({col: value}, inplace=True)' or df[col] = df[col].method(value) instead, to perform the operation inplace on the original object.\n",
            "\n",
            "\n",
            "  df[col].fillna(df[col].mean(), inplace=True)\n"
          ]
        }
      ]
    },
    {
      "cell_type": "markdown",
      "source": [
        "Impute every remaining NaN with the 5-row rolling mean"
      ],
      "metadata": {
        "id": "lYmHwTXpSBRF"
      }
    },
    {
      "cell_type": "code",
      "source": [
        "numeric_cols = df.select_dtypes(include=[np.number]).columns\n",
        "for c in numeric_cols:\n",
        "    roll = df[c].rolling(window=5, center=True, min_periods=1).mean()\n",
        "    df[c].fillna(roll, inplace=True)"
      ],
      "metadata": {
        "id": "eAWkHE0vSDOP",
        "colab": {
          "base_uri": "https://localhost:8080/"
        },
        "outputId": "2c73cf07-11bd-4f39-b0f4-31b40b55971b"
      },
      "execution_count": 11,
      "outputs": [
        {
          "output_type": "stream",
          "name": "stderr",
          "text": [
            "/tmp/ipython-input-11-431667633.py:4: FutureWarning: A value is trying to be set on a copy of a DataFrame or Series through chained assignment using an inplace method.\n",
            "The behavior will change in pandas 3.0. This inplace method will never work because the intermediate object on which we are setting values always behaves as a copy.\n",
            "\n",
            "For example, when doing 'df[col].method(value, inplace=True)', try using 'df.method({col: value}, inplace=True)' or df[col] = df[col].method(value) instead, to perform the operation inplace on the original object.\n",
            "\n",
            "\n",
            "  df[c].fillna(roll, inplace=True)\n"
          ]
        }
      ]
    },
    {
      "cell_type": "markdown",
      "source": [
        "Create a two‐class label using the median instead of a fixed 6008 cutoff"
      ],
      "metadata": {
        "id": "g9HMcN31VAsB"
      }
    },
    {
      "cell_type": "code",
      "source": [
        "# 6) Create a two‐class label using the median instead of a fixed 6008 cutoff\n",
        "col        = 'M[E] (metric tons year -1)'\n",
        "median_val = df[col].median()\n",
        "print(\"Median plastic load:\", median_val)\n",
        "\n",
        "# Use > median → 1 (high polluter), ≤ median → 0 (low polluter)\n",
        "df['plastic_contribution'] = (df[col] > median_val).astype(int)\n",
        "\n",
        "# Verify you now have two classes\n",
        "print(df['plastic_contribution'].value_counts())"
      ],
      "metadata": {
        "colab": {
          "base_uri": "https://localhost:8080/"
        },
        "id": "LQ06Z8_4VBd0",
        "outputId": "558a65c1-a14d-4c08-ff54-5ed8ec790ec2"
      },
      "execution_count": 12,
      "outputs": [
        {
          "output_type": "stream",
          "name": "stdout",
          "text": [
            "Median plastic load: 188.135593220339\n",
            "plastic_contribution\n",
            "0    126\n",
            "1     39\n",
            "Name: count, dtype: int64\n"
          ]
        }
      ]
    },
    {
      "cell_type": "markdown",
      "source": [
        "##Label Creation"
      ],
      "metadata": {
        "id": "zQ49Gw0sItJz"
      }
    },
    {
      "cell_type": "code",
      "source": [
        "df['plastic_contribution'] = (df[col] <= 6008).astype(int)"
      ],
      "metadata": {
        "id": "tyBvKSVnIwLo"
      },
      "execution_count": 13,
      "outputs": []
    },
    {
      "cell_type": "markdown",
      "source": [
        "##Features & target"
      ],
      "metadata": {
        "id": "EEYjOb8JJZDO"
      }
    },
    {
      "cell_type": "code",
      "source": [
        "X = df.drop([col, 'plastic_contribution', 'Country or Administrative area'], axis=1)\\\n",
        "       .select_dtypes(include=[np.number])\n",
        "y = df['plastic_contribution']"
      ],
      "metadata": {
        "collapsed": true,
        "id": "v1mN8xRLJfZ9"
      },
      "execution_count": 14,
      "outputs": []
    },
    {
      "cell_type": "markdown",
      "source": [
        "##Split data to Train/Test set\n",
        "- Split X and y into training (80%) and test (20%) sets,\n"
      ],
      "metadata": {
        "id": "-ZSm6Ar9KIys"
      }
    },
    {
      "cell_type": "code",
      "source": [
        "X_train, X_test, y_train, y_test = train_test_split(\n",
        "    X,                # all your features\n",
        "    y,                # your labels (0/1)\n",
        "    test_size=0.2,    # 20% held out for testing\n",
        "    random_state=42,  # fixed seed for reproducibility\n",
        "    stratify=y        # maintain class balance\n",
        ")"
      ],
      "metadata": {
        "id": "HhVqRfzsKRUb"
      },
      "execution_count": 15,
      "outputs": []
    },
    {
      "cell_type": "code",
      "source": [
        "print(\"X_train shape:\", X_train.shape)\n",
        "print(\"X_test  shape:\", X_test.shape)\n",
        "print(\"y_train balance:\\n\", y_train.value_counts(normalize=True))\n",
        "print(\"y_test  balance:\\n\", y_test.value_counts(normalize=True))"
      ],
      "metadata": {
        "colab": {
          "base_uri": "https://localhost:8080/"
        },
        "id": "MAoVYS7LKzT2",
        "outputId": "0886c2b6-4da6-43e8-c529-1aa47fdec611"
      },
      "execution_count": 16,
      "outputs": [
        {
          "output_type": "stream",
          "name": "stdout",
          "text": [
            "X_train shape: (132, 8)\n",
            "X_test  shape: (33, 8)\n",
            "y_train balance:\n",
            " plastic_contribution\n",
            "1    1.0\n",
            "Name: proportion, dtype: float64\n",
            "y_test  balance:\n",
            " plastic_contribution\n",
            "1    1.0\n",
            "Name: proportion, dtype: float64\n"
          ]
        }
      ]
    },
    {
      "cell_type": "markdown",
      "source": [
        "##Feature Scaling\n",
        "- .fit_transform(X_train) computes each feature’s mean & standard deviation on the training data and scales it (mean→0, std→1)\n",
        "- .transform(X_test) applies t\n",
        "\n",
        "- Prevents features with large numeric ranges from dominating the model.\n",
        "- Ensures your test set is scaled consistently with the training set."
      ],
      "metadata": {
        "id": "GN-uHgnvLIVZ"
      }
    },
    {
      "cell_type": "code",
      "source": [
        "# Create a scaler object\n",
        "scaler = StandardScaler()\n",
        "\n",
        "# Fit on training data and transform it:\n",
        "X_train_scaled = scaler.fit_transform(X_train)\n",
        "\n",
        "# Transform test data using the same scaler:\n",
        "X_test_scaled  = scaler.transform(X_test)"
      ],
      "metadata": {
        "id": "yTdLRBp-LKDx"
      },
      "execution_count": 17,
      "outputs": []
    },
    {
      "cell_type": "code",
      "source": [
        "print(\"Feature means (train):\", X_train_scaled.mean(axis=0))\n",
        "print(\"Feature stds  (train):\", X_train_scaled.std(axis=0))"
      ],
      "metadata": {
        "colab": {
          "base_uri": "https://localhost:8080/"
        },
        "id": "4qQbzg93LTNJ",
        "outputId": "138d2d85-492c-4f5e-c781-6f3c6d18aba9"
      },
      "execution_count": 18,
      "outputs": [
        {
          "output_type": "stream",
          "name": "stdout",
          "text": [
            "Feature means (train): [ 1.51394049e-17  1.00929366e-17  3.02788098e-17  0.00000000e+00\n",
            "  3.36431220e-17  3.36431220e-17  1.34572488e-17 -5.38289951e-17]\n",
            "Feature stds  (train): [1. 1. 1. 1. 1. 1. 1. 1.]\n"
          ]
        }
      ]
    },
    {
      "cell_type": "code",
      "source": [
        "print(df['plastic_contribution'].value_counts())"
      ],
      "metadata": {
        "colab": {
          "base_uri": "https://localhost:8080/"
        },
        "id": "7bYeAbKMT8BC",
        "outputId": "0bf0b2b1-8056-422a-9086-f6973526af2a"
      },
      "execution_count": 19,
      "outputs": [
        {
          "output_type": "stream",
          "name": "stdout",
          "text": [
            "plastic_contribution\n",
            "1    165\n",
            "Name: count, dtype: int64\n"
          ]
        }
      ]
    },
    {
      "cell_type": "markdown",
      "source": [
        "##Training the Model\n",
        "- .fit(X_train_scaled, y_train)\n",
        "    - Tells the algorithm to learn the relationship between your input features (X_train_scaled) and their labels (y_train).\n",
        "    - After this step, model has “seen” the training examples and stored the learned coefficients."
      ],
      "metadata": {
        "id": "xYE7N3WEMuvS"
      }
    },
    {
      "cell_type": "code",
      "source": [
        "# 1) Initialize the model\n",
        "model = LogisticRegression(random_state=42)\n",
        "\n",
        "# 2) Train (fit) on the scaled training data\n",
        "model.fit(X_train_scaled, y_train)"
      ],
      "metadata": {
        "colab": {
          "base_uri": "https://localhost:8080/",
          "height": 321
        },
        "id": "ym9w3y8xNN6U",
        "outputId": "04a90e6b-f348-4c71-b2f0-0daaa7730a03"
      },
      "execution_count": 20,
      "outputs": [
        {
          "output_type": "error",
          "ename": "ValueError",
          "evalue": "This solver needs samples of at least 2 classes in the data, but the data contains only one class: np.int64(1)",
          "traceback": [
            "\u001b[0;31m---------------------------------------------------------------------------\u001b[0m",
            "\u001b[0;31mValueError\u001b[0m                                Traceback (most recent call last)",
            "\u001b[0;32m/tmp/ipython-input-20-2443049710.py\u001b[0m in \u001b[0;36m<cell line: 0>\u001b[0;34m()\u001b[0m\n\u001b[1;32m      3\u001b[0m \u001b[0;34m\u001b[0m\u001b[0m\n\u001b[1;32m      4\u001b[0m \u001b[0;31m# 2) Train (fit) on the scaled training data\u001b[0m\u001b[0;34m\u001b[0m\u001b[0;34m\u001b[0m\u001b[0m\n\u001b[0;32m----> 5\u001b[0;31m \u001b[0mmodel\u001b[0m\u001b[0;34m.\u001b[0m\u001b[0mfit\u001b[0m\u001b[0;34m(\u001b[0m\u001b[0mX_train_scaled\u001b[0m\u001b[0;34m,\u001b[0m \u001b[0my_train\u001b[0m\u001b[0;34m)\u001b[0m\u001b[0;34m\u001b[0m\u001b[0;34m\u001b[0m\u001b[0m\n\u001b[0m",
            "\u001b[0;32m/usr/local/lib/python3.11/dist-packages/sklearn/base.py\u001b[0m in \u001b[0;36mwrapper\u001b[0;34m(estimator, *args, **kwargs)\u001b[0m\n\u001b[1;32m   1387\u001b[0m                 )\n\u001b[1;32m   1388\u001b[0m             ):\n\u001b[0;32m-> 1389\u001b[0;31m                 \u001b[0;32mreturn\u001b[0m \u001b[0mfit_method\u001b[0m\u001b[0;34m(\u001b[0m\u001b[0mestimator\u001b[0m\u001b[0;34m,\u001b[0m \u001b[0;34m*\u001b[0m\u001b[0margs\u001b[0m\u001b[0;34m,\u001b[0m \u001b[0;34m**\u001b[0m\u001b[0mkwargs\u001b[0m\u001b[0;34m)\u001b[0m\u001b[0;34m\u001b[0m\u001b[0;34m\u001b[0m\u001b[0m\n\u001b[0m\u001b[1;32m   1390\u001b[0m \u001b[0;34m\u001b[0m\u001b[0m\n\u001b[1;32m   1391\u001b[0m         \u001b[0;32mreturn\u001b[0m \u001b[0mwrapper\u001b[0m\u001b[0;34m\u001b[0m\u001b[0;34m\u001b[0m\u001b[0m\n",
            "\u001b[0;32m/usr/local/lib/python3.11/dist-packages/sklearn/linear_model/_logistic.py\u001b[0m in \u001b[0;36mfit\u001b[0;34m(self, X, y, sample_weight)\u001b[0m\n\u001b[1;32m   1299\u001b[0m         \u001b[0mclasses_\u001b[0m \u001b[0;34m=\u001b[0m \u001b[0mself\u001b[0m\u001b[0;34m.\u001b[0m\u001b[0mclasses_\u001b[0m\u001b[0;34m\u001b[0m\u001b[0;34m\u001b[0m\u001b[0m\n\u001b[1;32m   1300\u001b[0m         \u001b[0;32mif\u001b[0m \u001b[0mn_classes\u001b[0m \u001b[0;34m<\u001b[0m \u001b[0;36m2\u001b[0m\u001b[0;34m:\u001b[0m\u001b[0;34m\u001b[0m\u001b[0;34m\u001b[0m\u001b[0m\n\u001b[0;32m-> 1301\u001b[0;31m             raise ValueError(\n\u001b[0m\u001b[1;32m   1302\u001b[0m                 \u001b[0;34m\"This solver needs samples of at least 2 classes\"\u001b[0m\u001b[0;34m\u001b[0m\u001b[0;34m\u001b[0m\u001b[0m\n\u001b[1;32m   1303\u001b[0m                 \u001b[0;34m\" in the data, but the data contains only one\"\u001b[0m\u001b[0;34m\u001b[0m\u001b[0;34m\u001b[0m\u001b[0m\n",
            "\u001b[0;31mValueError\u001b[0m: This solver needs samples of at least 2 classes in the data, but the data contains only one class: np.int64(1)"
          ]
        }
      ]
    },
    {
      "cell_type": "markdown",
      "source": [
        "##Evaluating the Model"
      ],
      "metadata": {
        "id": "xpy211Y6NX_5"
      }
    },
    {
      "cell_type": "markdown",
      "source": [
        "Use the trained model to make predictions on unseen test data"
      ],
      "metadata": {
        "id": "9ykN1jdONjNd"
      }
    },
    {
      "cell_type": "code",
      "source": [
        "y_pred = model.predict(X_test_scaled)"
      ],
      "metadata": {
        "id": "AHg-6Fi5Nbid"
      },
      "execution_count": null,
      "outputs": []
    },
    {
      "cell_type": "markdown",
      "source": [
        "Calculate metrics comparing predictions to the true labels"
      ],
      "metadata": {
        "id": "BanAw4dWNlx6"
      }
    },
    {
      "cell_type": "code",
      "source": [
        "acc   = accuracy_score(y_test, y_pred)    # overall correctness\n",
        "prec  = precision_score(y_test, y_pred)   # when it predicts “low polluter,” how often it’s right\n",
        "rec   = recall_score(y_test, y_pred)      # of all true “low polluter” rivers, how many we caught"
      ],
      "metadata": {
        "id": "yWNxP6TJNoiw"
      },
      "execution_count": null,
      "outputs": []
    },
    {
      "cell_type": "markdown",
      "source": [
        "visualize"
      ],
      "metadata": {
        "id": "QMGpOKUGNw5_"
      }
    },
    {
      "cell_type": "code",
      "source": [
        "print(f\"Accuracy : {acc:.2f}\")\n",
        "print(f\"Precision: {prec:.2f}\")\n",
        "print(f\"Recall   : {rec:.2f}\")"
      ],
      "metadata": {
        "id": "AIV8StO_N0Qh"
      },
      "execution_count": null,
      "outputs": []
    },
    {
      "cell_type": "markdown",
      "source": [
        "##Detailed breakdown"
      ],
      "metadata": {
        "id": "1QroChL3N2Wi"
      }
    },
    {
      "cell_type": "code",
      "source": [
        "print(\"\\nFull report:\\n\", classification_report(y_test, y_pred))"
      ],
      "metadata": {
        "id": "-I66ex6bN3xt"
      },
      "execution_count": null,
      "outputs": []
    },
    {
      "cell_type": "code",
      "source": [
        "df.head()"
      ],
      "metadata": {
        "id": "0LRgk-LnbBDP"
      },
      "execution_count": null,
      "outputs": []
    },
    {
      "cell_type": "code",
      "source": [
        "plt.figure()\n",
        "counts = df['plastic_contribution'].value_counts().sort_index()\n",
        "plt.bar(counts.index.astype(str), counts.values)\n",
        "plt.xlabel('Plastic Contribution (0=Low Polluter, 1=High Polluter)')\n",
        "plt.ylabel('Count')\n",
        "plt.title('Count of Rivers by Plastic Contribution')\n",
        "plt.show()"
      ],
      "metadata": {
        "id": "uTOVJvXXvjsf"
      },
      "execution_count": null,
      "outputs": []
    },
    {
      "cell_type": "code",
      "source": [
        "y_pred = model.predict(X_test_scaled)\n",
        "cm = confusion_matrix(y_test, y_pred)\n",
        "plt.figure()\n",
        "plt.imshow(cm)\n",
        "for (i, j), val in np.ndenumerate(cm):\n",
        "    plt.text(j, i, str(val), ha='center', va='center')\n",
        "plt.xlabel('Predicted Label')\n",
        "plt.ylabel('True Label')\n",
        "plt.title('Confusion Matrix')\n",
        "plt.show()"
      ],
      "metadata": {
        "id": "AkecgQ6owY16"
      },
      "execution_count": null,
      "outputs": []
    },
    {
      "cell_type": "code",
      "source": [
        "# 3) ROC Curve & AUC\n",
        "y_score = model.predict_proba(X_test_scaled)[:,1]  # probability of class “1” (Low Polluter)\n",
        "fpr, tpr, _ = roc_curve(y_test, y_score)\n",
        "roc_auc = auc(fpr, tpr)\n",
        "\n",
        "plt.figure(figsize=(6,4))\n",
        "plt.plot(fpr, tpr, label=f'AUC = {roc_auc:.2f}')\n",
        "plt.plot([0,1], [0,1], 'k--', label='Random Chance')\n",
        "plt.xlabel('False Positive Rate')\n",
        "plt.ylabel('True Positive Rate')\n",
        "plt.title('ROC Curve')\n",
        "plt.legend(loc='lower right')\n",
        "plt.show()"
      ],
      "metadata": {
        "id": "cWasptETKWjy"
      },
      "execution_count": null,
      "outputs": []
    }
  ]
}